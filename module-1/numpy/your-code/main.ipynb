{
 "cells": [
  {
   "cell_type": "markdown",
   "metadata": {},
   "source": [
    "# Introduction to NumPy\n",
    "\n",
    "\n",
    "#### 1. Import NumPy under the name np."
   ]
  },
  {
   "cell_type": "code",
   "execution_count": 57,
   "metadata": {},
   "outputs": [],
   "source": [
    "# your code here\n",
    "import numpy as np"
   ]
  },
  {
   "cell_type": "markdown",
   "metadata": {},
   "source": [
    "#### 2. Print your NumPy version."
   ]
  },
  {
   "cell_type": "code",
   "execution_count": 58,
   "metadata": {},
   "outputs": [
    {
     "data": {
      "text/plain": [
       "'1.18.1'"
      ]
     },
     "execution_count": 58,
     "metadata": {},
     "output_type": "execute_result"
    }
   ],
   "source": [
    "# your code here\n",
    "np.__version__"
   ]
  },
  {
   "cell_type": "markdown",
   "metadata": {},
   "source": [
    "#### 3. Generate a 2x3x5 3-dimensional array with random values. Assign the array to variable *a*.\n",
    "**Challenge**: there are at least three easy ways that use numpy to generate random arrays. How many ways can you find?"
   ]
  },
  {
   "cell_type": "code",
   "execution_count": 59,
   "metadata": {},
   "outputs": [
    {
     "name": "stdout",
     "output_type": "stream",
     "text": [
      "[[[0.31313031 0.98917644 0.97252725 0.14961194 0.4421579 ]\n",
      "  [0.12953396 0.35351112 0.82497948 0.18099624 0.95530824]\n",
      "  [0.52167721 0.355612   0.67272619 0.03149135 0.32573014]]\n",
      "\n",
      " [[0.86420182 0.00548675 0.53263046 0.49554333 0.24779648]\n",
      "  [0.31268991 0.28088251 0.4382613  0.08455152 0.18952093]\n",
      "  [0.24573955 0.53966844 0.00168968 0.93832574 0.05262191]]]\n"
     ]
    }
   ],
   "source": [
    "# Method 1 - This method creates a completely aleatory array\n",
    "a=np.random.random([2,3,5])\n",
    "print(a)"
   ]
  },
  {
   "cell_type": "code",
   "execution_count": 60,
   "metadata": {},
   "outputs": [
    {
     "name": "stdout",
     "output_type": "stream",
     "text": [
      "[[[32 12 35 14 11]\n",
      "  [ 3  5 19 32 10]\n",
      "  [22 23 23  4 25]]\n",
      "\n",
      " [[35 22 25 32 35]\n",
      "  [21  1  8 38 36]\n",
      "  [ 5 17  0 14 18]]]\n"
     ]
    }
   ],
   "source": [
    "# Method 2 - This method creates an array containing random values between 0 and 40\n",
    "a=np.random.randint(0, 40, size=(2, 3, 5))\n",
    "print(a)"
   ]
  },
  {
   "cell_type": "code",
   "execution_count": 61,
   "metadata": {},
   "outputs": [
    {
     "name": "stdout",
     "output_type": "stream",
     "text": [
      "[[[0.98763244 0.95547881 0.39682412 0.30157691 0.10835027]\n",
      "  [0.4976784  0.32080898 0.00126672 0.25742624 0.85905541]\n",
      "  [0.30488587 0.99864596 0.74249091 0.42054999 0.94616543]]\n",
      "\n",
      " [[0.77823011 0.04133921 0.23109496 0.52025313 0.2532823 ]\n",
      "  [0.73254392 0.16604508 0.49794381 0.94117865 0.9201739 ]\n",
      "  [0.09270073 0.45253274 0.70309795 0.93229254 0.98657716]]]\n"
     ]
    }
   ],
   "source": [
    "# Method 3 - This method creates an array containing random values between 0 and 1\n",
    "a=np.random.rand(2,3,5)\n",
    "print(a)"
   ]
  },
  {
   "cell_type": "markdown",
   "metadata": {},
   "source": [
    "#### 4. Print *a*.\n"
   ]
  },
  {
   "cell_type": "code",
   "execution_count": 62,
   "metadata": {},
   "outputs": [
    {
     "name": "stdout",
     "output_type": "stream",
     "text": [
      "[[[0.98763244 0.95547881 0.39682412 0.30157691 0.10835027]\n",
      "  [0.4976784  0.32080898 0.00126672 0.25742624 0.85905541]\n",
      "  [0.30488587 0.99864596 0.74249091 0.42054999 0.94616543]]\n",
      "\n",
      " [[0.77823011 0.04133921 0.23109496 0.52025313 0.2532823 ]\n",
      "  [0.73254392 0.16604508 0.49794381 0.94117865 0.9201739 ]\n",
      "  [0.09270073 0.45253274 0.70309795 0.93229254 0.98657716]]]\n"
     ]
    }
   ],
   "source": [
    "# your code here\n",
    "print(a)"
   ]
  },
  {
   "cell_type": "markdown",
   "metadata": {},
   "source": [
    "#### 5. Create a 5x2x3 3-dimensional array with all values equaling 1. Assign the array to variable *b*."
   ]
  },
  {
   "cell_type": "code",
   "execution_count": 63,
   "metadata": {},
   "outputs": [],
   "source": [
    "# your code here\n",
    "b=np.ones([5,2,3])"
   ]
  },
  {
   "cell_type": "markdown",
   "metadata": {},
   "source": [
    "#### 6. Print *b*.\n"
   ]
  },
  {
   "cell_type": "code",
   "execution_count": 64,
   "metadata": {},
   "outputs": [
    {
     "name": "stdout",
     "output_type": "stream",
     "text": [
      "[[[1. 1. 1.]\n",
      "  [1. 1. 1.]]\n",
      "\n",
      " [[1. 1. 1.]\n",
      "  [1. 1. 1.]]\n",
      "\n",
      " [[1. 1. 1.]\n",
      "  [1. 1. 1.]]\n",
      "\n",
      " [[1. 1. 1.]\n",
      "  [1. 1. 1.]]\n",
      "\n",
      " [[1. 1. 1.]\n",
      "  [1. 1. 1.]]]\n"
     ]
    }
   ],
   "source": [
    "# your code here\n",
    "print(b)"
   ]
  },
  {
   "cell_type": "markdown",
   "metadata": {},
   "source": [
    "#### 7. Do *a* and *b* have the same size? How do you prove that in Python code?"
   ]
  },
  {
   "cell_type": "code",
   "execution_count": 65,
   "metadata": {},
   "outputs": [
    {
     "data": {
      "text/plain": [
       "True"
      ]
     },
     "execution_count": 65,
     "metadata": {},
     "output_type": "execute_result"
    }
   ],
   "source": [
    "# your code here\n",
    "a.size==b.size\n"
   ]
  },
  {
   "cell_type": "markdown",
   "metadata": {},
   "source": [
    "#### 8. Are you able to add *a* and *b*? Why or why not?\n"
   ]
  },
  {
   "cell_type": "code",
   "execution_count": 66,
   "metadata": {},
   "outputs": [
    {
     "ename": "ValueError",
     "evalue": "all the input array dimensions for the concatenation axis must match exactly, but along dimension 1, the array at index 0 has size 3 and the array at index 1 has size 2",
     "output_type": "error",
     "traceback": [
      "\u001b[0;31m---------------------------------------------------------------------------\u001b[0m",
      "\u001b[0;31mValueError\u001b[0m                                Traceback (most recent call last)",
      "\u001b[0;32m<ipython-input-66-8344f028a231>\u001b[0m in \u001b[0;36m<module>\u001b[0;34m\u001b[0m\n\u001b[1;32m      1\u001b[0m \u001b[0;31m# your answer here - It is possible to add a and b, but we have to reshape them first. We either\u001b[0m\u001b[0;34m\u001b[0m\u001b[0;34m\u001b[0m\u001b[0;34m\u001b[0m\u001b[0m\n\u001b[1;32m      2\u001b[0m \u001b[0;31m# - Transform both of them to one-dimesion arrays and add/concatenate them. If we do not perform the transformation beforehand we get the ValueError showed below\u001b[0m\u001b[0;34m\u001b[0m\u001b[0;34m\u001b[0m\u001b[0;34m\u001b[0m\u001b[0m\n\u001b[0;32m----> 3\u001b[0;31m \u001b[0mnp\u001b[0m\u001b[0;34m.\u001b[0m\u001b[0mconcatenate\u001b[0m\u001b[0;34m(\u001b[0m\u001b[0;34m[\u001b[0m\u001b[0ma\u001b[0m\u001b[0;34m,\u001b[0m\u001b[0mb\u001b[0m\u001b[0;34m]\u001b[0m\u001b[0;34m)\u001b[0m\u001b[0;34m\u001b[0m\u001b[0;34m\u001b[0m\u001b[0m\n\u001b[0m\u001b[1;32m      4\u001b[0m \u001b[0;31m# - Transform one of them to the shape of the other and add both afterwards\u001b[0m\u001b[0;34m\u001b[0m\u001b[0;34m\u001b[0m\u001b[0;34m\u001b[0m\u001b[0m\n",
      "\u001b[0;32m<__array_function__ internals>\u001b[0m in \u001b[0;36mconcatenate\u001b[0;34m(*args, **kwargs)\u001b[0m\n",
      "\u001b[0;31mValueError\u001b[0m: all the input array dimensions for the concatenation axis must match exactly, but along dimension 1, the array at index 0 has size 3 and the array at index 1 has size 2"
     ]
    }
   ],
   "source": [
    "# your answer here - It is possible to add a and b, but we have to reshape them first. We either\n",
    "# - Transform both of them to one-dimesion arrays and add/concatenate them. If we do not perform the transformation beforehand we get the ValueError showed below\n",
    "np.concatenate([a,b])\n",
    "# - Transform one of them to the shape of the other and add both afterwards\n"
   ]
  },
  {
   "cell_type": "markdown",
   "metadata": {},
   "source": [
    "#### 9. Transpose *b* so that it has the same structure of *a* (i.e. become a 2x3x5 array). Assign the transposed array to variable *c*."
   ]
  },
  {
   "cell_type": "code",
   "execution_count": 67,
   "metadata": {},
   "outputs": [
    {
     "name": "stdout",
     "output_type": "stream",
     "text": [
      "[[[1. 1. 1. 1. 1.]\n",
      "  [1. 1. 1. 1. 1.]\n",
      "  [1. 1. 1. 1. 1.]]\n",
      "\n",
      " [[1. 1. 1. 1. 1.]\n",
      "  [1. 1. 1. 1. 1.]\n",
      "  [1. 1. 1. 1. 1.]]]\n"
     ]
    },
    {
     "data": {
      "text/plain": [
       "(2, 3, 5)"
      ]
     },
     "execution_count": 67,
     "metadata": {},
     "output_type": "execute_result"
    }
   ],
   "source": [
    "# your code here\n",
    "# It could also be done with c=np.reshape(b, a.size)\n",
    "c=b.transpose(1,2,0)\n",
    "print(c)\n",
    "c.shape"
   ]
  },
  {
   "cell_type": "markdown",
   "metadata": {},
   "source": [
    "#### 10. Try to add *a* and *c*. Now it should work. Assign the sum to variable *d*. But why does it work now?"
   ]
  },
  {
   "cell_type": "code",
   "execution_count": 68,
   "metadata": {},
   "outputs": [
    {
     "name": "stdout",
     "output_type": "stream",
     "text": [
      "[[[1.98763244 1.95547881 1.39682412 1.30157691 1.10835027]\n",
      "  [1.4976784  1.32080898 1.00126672 1.25742624 1.85905541]\n",
      "  [1.30488587 1.99864596 1.74249091 1.42054999 1.94616543]]\n",
      "\n",
      " [[1.77823011 1.04133921 1.23109496 1.52025313 1.2532823 ]\n",
      "  [1.73254392 1.16604508 1.49794381 1.94117865 1.9201739 ]\n",
      "  [1.09270073 1.45253274 1.70309795 1.93229254 1.98657716]]]\n"
     ]
    }
   ],
   "source": [
    "# your code/answer here - Now it works because both a and c are in the same dimension/have the same shape\n",
    "# We could also perform this operation with d=a+c\n",
    "d=np.add(a,c)\n",
    "print(d)\n"
   ]
  },
  {
   "cell_type": "markdown",
   "metadata": {},
   "source": [
    "#### 11. Print *a* and *d*. Notice the difference and relation of the two array in terms of the values? Explain."
   ]
  },
  {
   "cell_type": "code",
   "execution_count": 69,
   "metadata": {},
   "outputs": [
    {
     "name": "stdout",
     "output_type": "stream",
     "text": [
      "[[[0.98763244 0.95547881 0.39682412 0.30157691 0.10835027]\n",
      "  [0.4976784  0.32080898 0.00126672 0.25742624 0.85905541]\n",
      "  [0.30488587 0.99864596 0.74249091 0.42054999 0.94616543]]\n",
      "\n",
      " [[0.77823011 0.04133921 0.23109496 0.52025313 0.2532823 ]\n",
      "  [0.73254392 0.16604508 0.49794381 0.94117865 0.9201739 ]\n",
      "  [0.09270073 0.45253274 0.70309795 0.93229254 0.98657716]]]\n",
      "[[[1.98763244 1.95547881 1.39682412 1.30157691 1.10835027]\n",
      "  [1.4976784  1.32080898 1.00126672 1.25742624 1.85905541]\n",
      "  [1.30488587 1.99864596 1.74249091 1.42054999 1.94616543]]\n",
      "\n",
      " [[1.77823011 1.04133921 1.23109496 1.52025313 1.2532823 ]\n",
      "  [1.73254392 1.16604508 1.49794381 1.94117865 1.9201739 ]\n",
      "  [1.09270073 1.45253274 1.70309795 1.93229254 1.98657716]]]\n"
     ]
    }
   ],
   "source": [
    "# your code/answer here \n",
    "# Difference - Array d's values are exactly a values +1 and are located in the same position in both a and d \n",
    "# Relation - We should remember that d=a+b and b was made of ones, therefore when you add a and b, d is the expected result\n",
    "# Array d is equal to array a in size and shape. \n",
    "print(a)\n",
    "print(d)"
   ]
  },
  {
   "cell_type": "markdown",
   "metadata": {},
   "source": [
    "#### 12. Multiply *a* and *c*. Assign the result to *e*."
   ]
  },
  {
   "cell_type": "code",
   "execution_count": 41,
   "metadata": {},
   "outputs": [
    {
     "name": "stdout",
     "output_type": "stream",
     "text": [
      "[[[0.93246989 0.51368706 0.19665959 0.03488091 0.5422121 ]\n",
      "  [0.53318137 0.38255901 0.76674941 0.99914768 0.74529785]\n",
      "  [0.63547273 0.6912302  0.67625486 0.12735569 0.88607417]]\n",
      "\n",
      " [[0.06983199 0.61245687 0.18894929 0.52547461 0.85697949]\n",
      "  [0.475741   0.78733272 0.1249335  0.23594992 0.38979379]\n",
      "  [0.27558928 0.57207197 0.73530651 0.34434226 0.50400647]]]\n"
     ]
    }
   ],
   "source": [
    "# your code here\n",
    "# e=a*c\n",
    "e=np.multiply(a,c)\n",
    "print(e)"
   ]
  },
  {
   "cell_type": "markdown",
   "metadata": {},
   "source": [
    "#### 13. Does *e* equal to *a*? Why or why not?\n"
   ]
  },
  {
   "cell_type": "code",
   "execution_count": 15,
   "metadata": {},
   "outputs": [],
   "source": [
    "# your code/answer here\n",
    "# e is equal to a due to the fact that e is made up of 1 values. Thus, we could state that any array multiply by another array built on 1 values is equal to itself"
   ]
  },
  {
   "cell_type": "markdown",
   "metadata": {},
   "source": [
    "#### 14. Identify the max, min, and mean values in *d*. Assign those values to variables *d_max*, *d_min* and *d_mean*."
   ]
  },
  {
   "cell_type": "code",
   "execution_count": 16,
   "metadata": {},
   "outputs": [
    {
     "name": "stdout",
     "output_type": "stream",
     "text": [
      "1.9991476750680022\n",
      "1.0348809059087738\n",
      "1.5120664063395917\n"
     ]
    }
   ],
   "source": [
    "# your code here\n",
    "d_max= np.max(d)\n",
    "print(d_max)\n",
    "d_min= np.min(d)\n",
    "print(d_min)\n",
    "d_mean= np.mean(d)\n",
    "print(d_mean)"
   ]
  },
  {
   "cell_type": "markdown",
   "metadata": {},
   "source": [
    "#### 15. Now we want to label the values in *d*. First create an empty array *f* with the same shape (i.e. 2x3x5) as *d* using `np.empty`.\n"
   ]
  },
  {
   "cell_type": "code",
   "execution_count": 17,
   "metadata": {},
   "outputs": [],
   "source": [
    "# your code here\n",
    "f=np.empty((2,3,5))"
   ]
  },
  {
   "cell_type": "markdown",
   "metadata": {},
   "source": [
    "#### 16. Populate the values in *f*. \n",
    "\n",
    "For each value in *d*, if it's larger than *d_min* but smaller than *d_mean*, assign 25 to the corresponding value in *f*. If a value in *d* is larger than *d_mean* but smaller than *d_max*, assign 75 to the corresponding value in *f*. If a value equals to *d_mean*, assign 50 to the corresponding value in *f*. Assign 0 to the corresponding value(s) in *f* for *d_min* in *d*. Assign 100 to the corresponding value(s) in *f* for *d_max* in *d*. In the end, f should have only the following values: 0, 25, 50, 75, and 100.\n",
    "\n",
    "**Note**: you don't have to use Numpy in this question."
   ]
  },
  {
   "cell_type": "code",
   "execution_count": 73,
   "metadata": {},
   "outputs": [
    {
     "ename": "IndexError",
     "evalue": "arrays used as indices must be of integer (or boolean) type",
     "output_type": "error",
     "traceback": [
      "\u001b[0;31m---------------------------------------------------------------------------\u001b[0m",
      "\u001b[0;31mIndexError\u001b[0m                                Traceback (most recent call last)",
      "\u001b[0;32m<ipython-input-73-3693ca951483>\u001b[0m in \u001b[0;36m<module>\u001b[0;34m\u001b[0m\n\u001b[1;32m      9\u001b[0m         \u001b[0mf\u001b[0m\u001b[0;34m[\u001b[0m\u001b[0mx\u001b[0m\u001b[0;34m]\u001b[0m\u001b[0;34m=\u001b[0m\u001b[0;36m50\u001b[0m\u001b[0;34m\u001b[0m\u001b[0;34m\u001b[0m\u001b[0m\n\u001b[1;32m     10\u001b[0m     \u001b[0;32melif\u001b[0m \u001b[0mx\u001b[0m\u001b[0;34m>\u001b[0m\u001b[0md_mean\u001b[0m \u001b[0;32mand\u001b[0m \u001b[0mx\u001b[0m\u001b[0;34m<\u001b[0m\u001b[0md_max\u001b[0m\u001b[0;34m:\u001b[0m\u001b[0;34m\u001b[0m\u001b[0;34m\u001b[0m\u001b[0m\n\u001b[0;32m---> 11\u001b[0;31m         \u001b[0mf\u001b[0m\u001b[0;34m[\u001b[0m\u001b[0mx\u001b[0m\u001b[0;34m]\u001b[0m\u001b[0;34m=\u001b[0m\u001b[0;36m75\u001b[0m\u001b[0;34m\u001b[0m\u001b[0;34m\u001b[0m\u001b[0m\n\u001b[0m\u001b[1;32m     12\u001b[0m     \u001b[0;32melse\u001b[0m\u001b[0;34m:\u001b[0m\u001b[0;34m\u001b[0m\u001b[0;34m\u001b[0m\u001b[0m\n\u001b[1;32m     13\u001b[0m         \u001b[0mf\u001b[0m\u001b[0;34m[\u001b[0m\u001b[0mx\u001b[0m\u001b[0;34m]\u001b[0m\u001b[0;34m=\u001b[0m\u001b[0;36m100\u001b[0m\u001b[0;34m\u001b[0m\u001b[0;34m\u001b[0m\u001b[0m\n",
      "\u001b[0;31mIndexError\u001b[0m: arrays used as indices must be of integer (or boolean) type"
     ]
    }
   ],
   "source": [
    "# your code here\n",
    "import re\n",
    "\n",
    "for x np.nditer(d):\n",
    "    if x re.sub()\n",
    "   "
   ]
  },
  {
   "cell_type": "markdown",
   "metadata": {},
   "source": [
    "#### 17. Print *d* and *f*. Do you have your expected *f*?\n",
    "For instance, if your *d* is:\n",
    "```python\n",
    "[[[1.85836099, 1.67064465, 1.62576044, 1.40243961, 1.88454931],\n",
    "[1.75354326, 1.69403643, 1.36729252, 1.61415071, 1.12104981],\n",
    "[1.72201435, 1.1862918 , 1.87078449, 1.7726778 , 1.88180042]],\n",
    "[[1.44747908, 1.31673383, 1.02000951, 1.52218947, 1.97066381],\n",
    "[1.79129243, 1.74983003, 1.96028037, 1.85166831, 1.65450881],\n",
    "[1.18068344, 1.9587381 , 1.00656599, 1.93402165, 1.73514584]]]\n",
    "```\n",
    "Your *f* should be:\n",
    "```python\n",
    "[[[ 75.,  75.,  75.,  25.,  75.],\n",
    "[ 75.,  75.,  25.,  25.,  25.],\n",
    "[ 75.,  25.,  75.,  75.,  75.]],\n",
    "[[ 25.,  25.,  25.,  25., 100.],\n",
    "[ 75.,  75.,  75.,  75.,  75.],\n",
    "[ 25.,  75.,   0.,  75.,  75.]]]\n",
    "```"
   ]
  },
  {
   "cell_type": "code",
   "execution_count": 31,
   "metadata": {},
   "outputs": [
    {
     "name": "stdout",
     "output_type": "stream",
     "text": [
      "[[[1.93246989 1.51368706 1.19665959 1.03488091 1.5422121 ]\n",
      "  [1.53318137 1.38255901 1.76674941 1.99914768 1.74529785]\n",
      "  [1.63547273 1.6912302  1.67625486 1.12735569 1.88607417]]\n",
      "\n",
      " [[1.06983199 1.61245687 1.18894929 1.52547461 1.85697949]\n",
      "  [1.475741   1.78733272 1.1249335  1.23594992 1.38979379]\n",
      "  [1.27558928 1.57207197 1.73530651 1.34434226 1.50400647]]]\n",
      "[[[0.93246989 0.51368706 0.19665959 0.03488091 0.5422121 ]\n",
      "  [0.53318137 0.38255901 0.76674941 0.99914768 0.74529785]\n",
      "  [0.63547273 0.6912302  0.67625486 0.12735569 0.88607417]]\n",
      "\n",
      " [[0.06983199 0.61245687 0.18894929 0.52547461 0.85697949]\n",
      "  [0.475741   0.78733272 0.1249335  0.23594992 0.38979379]\n",
      "  [0.27558928 0.57207197 0.73530651 0.34434226 0.50400647]]]\n"
     ]
    }
   ],
   "source": [
    "# your code here\n",
    "print(d)\n",
    "print(f)"
   ]
  },
  {
   "cell_type": "markdown",
   "metadata": {},
   "source": [
    "#### 18. Bonus question: instead of using numbers (i.e. 0, 25, 50, 75, and 100), use string values  (\"A\", \"B\", \"C\", \"D\", and \"E\") to label the array elements. For the example above, the expected result is:\n",
    "\n",
    "```python\n",
    "[[[ 'D',  'D',  'D',  'B',  'D'],\n",
    "[ 'D',  'D',  'B',  'B',  'B'],\n",
    "[ 'D',  'B',  'D',  'D',  'D']],\n",
    "[[ 'B',  'B',  'B',  'B',  'E'],\n",
    "[ 'D',  'D',  'D',  'D',  'D'],\n",
    "[ 'B',  'D',   'A',  'D', 'D']]]\n",
    "```\n",
    "**Note**: you don't have to use Numpy in this question."
   ]
  },
  {
   "cell_type": "code",
   "execution_count": null,
   "metadata": {},
   "outputs": [],
   "source": [
    "# your code here"
   ]
  },
  {
   "cell_type": "code",
   "execution_count": null,
   "metadata": {},
   "outputs": [],
   "source": []
  },
  {
   "cell_type": "code",
   "execution_count": null,
   "metadata": {},
   "outputs": [],
   "source": []
  }
 ],
 "metadata": {
  "kernelspec": {
   "display_name": "Python 3",
   "language": "python",
   "name": "python3"
  },
  "language_info": {
   "codemirror_mode": {
    "name": "ipython",
    "version": 3
   },
   "file_extension": ".py",
   "mimetype": "text/x-python",
   "name": "python",
   "nbconvert_exporter": "python",
   "pygments_lexer": "ipython3",
   "version": "3.7.7"
  }
 },
 "nbformat": 4,
 "nbformat_minor": 2
}
