{
 "cells": [
  {
   "cell_type": "markdown",
   "metadata": {},
   "source": [
    "# Introduction to NumPy\n",
    "\n",
    "\n",
    "#### 1. Import NumPy under the name np."
   ]
  },
  {
   "cell_type": "code",
   "execution_count": 1,
   "metadata": {},
   "outputs": [],
   "source": [
    "# your code here\n",
    "import numpy as np"
   ]
  },
  {
   "cell_type": "markdown",
   "metadata": {},
   "source": [
    "#### 2. Print your NumPy version."
   ]
  },
  {
   "cell_type": "code",
   "execution_count": 2,
   "metadata": {},
   "outputs": [
    {
     "data": {
      "text/plain": [
       "'1.18.1'"
      ]
     },
     "execution_count": 2,
     "metadata": {},
     "output_type": "execute_result"
    }
   ],
   "source": [
    "# your code here\n",
    "np.__version__"
   ]
  },
  {
   "cell_type": "markdown",
   "metadata": {},
   "source": [
    "#### 3. Generate a 2x3x5 3-dimensional array with random values. Assign the array to variable *a*.\n",
    "**Challenge**: there are at least three easy ways that use numpy to generate random arrays. How many ways can you find?"
   ]
  },
  {
   "cell_type": "code",
   "execution_count": 3,
   "metadata": {},
   "outputs": [
    {
     "name": "stdout",
     "output_type": "stream",
     "text": [
      "[[[0.24799606 0.12356791 0.70268614 0.31813251 0.45561194]\n",
      "  [0.59167214 0.14024317 0.22442223 0.3207159  0.13579013]\n",
      "  [0.83650415 0.94182823 0.23909604 0.42257698 0.60927084]]\n",
      "\n",
      " [[0.32448904 0.27832227 0.06604922 0.01203428 0.67457379]\n",
      "  [0.17494267 0.94526874 0.17939841 0.31959612 0.67376195]\n",
      "  [0.1503299  0.63935384 0.38151711 0.66889355 0.33597925]]]\n"
     ]
    }
   ],
   "source": [
    "# Method 1 - This method creates an aleatory array\n",
    "# a=np.random.rand(2,3,5) have the same output\n",
    "a=np.random.random([2,3,5])\n",
    "print((a))"
   ]
  },
  {
   "cell_type": "code",
   "execution_count": 4,
   "metadata": {},
   "outputs": [
    {
     "name": "stdout",
     "output_type": "stream",
     "text": [
      "[[[39 35 34 29  8]\n",
      "  [27 11 16 19 17]\n",
      "  [14  0 29 39  2]]\n",
      "\n",
      " [[ 9 35 32  1  9]\n",
      "  [24 26  5 30  1]\n",
      "  [20 15  1  3 28]]]\n"
     ]
    }
   ],
   "source": [
    "# Method 2 - This method creates an array containing random integer values between 0 and 40\n",
    "a=np.random.randint(0, 40, size=(2, 3, 5))\n",
    "print(a)"
   ]
  },
  {
   "cell_type": "code",
   "execution_count": 5,
   "metadata": {},
   "outputs": [
    {
     "name": "stdout",
     "output_type": "stream",
     "text": [
      "[[[5.86154235 9.24548157 9.04600517 6.345395   7.4948785 ]\n",
      "  [5.67975236 5.11544794 5.87850396 7.02272966 5.98557893]\n",
      "  [5.71698846 7.93820659 6.89276723 6.94525871 9.91931996]]\n",
      "\n",
      " [[9.87098445 7.22228859 6.49968611 9.84793492 6.65388199]\n",
      "  [9.96519276 6.24641635 8.38471677 6.85583291 9.00577944]\n",
      "  [6.55141052 8.02951109 8.75544434 9.88300697 9.99392251]]]\n"
     ]
    }
   ],
   "source": [
    "# Method 3 - This method creates an array containing random floating values between 10 and 5\n",
    "a=np.random.uniform(10,5,(2,3,5))\n",
    "print(a)\n"
   ]
  },
  {
   "cell_type": "markdown",
   "metadata": {},
   "source": [
    "#### 4. Print *a*.\n"
   ]
  },
  {
   "cell_type": "code",
   "execution_count": 6,
   "metadata": {},
   "outputs": [
    {
     "name": "stdout",
     "output_type": "stream",
     "text": [
      "[[[5.86154235 9.24548157 9.04600517 6.345395   7.4948785 ]\n",
      "  [5.67975236 5.11544794 5.87850396 7.02272966 5.98557893]\n",
      "  [5.71698846 7.93820659 6.89276723 6.94525871 9.91931996]]\n",
      "\n",
      " [[9.87098445 7.22228859 6.49968611 9.84793492 6.65388199]\n",
      "  [9.96519276 6.24641635 8.38471677 6.85583291 9.00577944]\n",
      "  [6.55141052 8.02951109 8.75544434 9.88300697 9.99392251]]]\n"
     ]
    }
   ],
   "source": [
    "# your code here\n",
    "print(a)"
   ]
  },
  {
   "cell_type": "markdown",
   "metadata": {},
   "source": [
    "#### 5. Create a 5x2x3 3-dimensional array with all values equaling 1. Assign the array to variable *b*."
   ]
  },
  {
   "cell_type": "code",
   "execution_count": 7,
   "metadata": {},
   "outputs": [],
   "source": [
    "# your code here\n",
    "b=np.ones([5,2,3])"
   ]
  },
  {
   "cell_type": "markdown",
   "metadata": {},
   "source": [
    "#### 6. Print *b*.\n"
   ]
  },
  {
   "cell_type": "code",
   "execution_count": 8,
   "metadata": {},
   "outputs": [
    {
     "name": "stdout",
     "output_type": "stream",
     "text": [
      "[[[1. 1. 1.]\n",
      "  [1. 1. 1.]]\n",
      "\n",
      " [[1. 1. 1.]\n",
      "  [1. 1. 1.]]\n",
      "\n",
      " [[1. 1. 1.]\n",
      "  [1. 1. 1.]]\n",
      "\n",
      " [[1. 1. 1.]\n",
      "  [1. 1. 1.]]\n",
      "\n",
      " [[1. 1. 1.]\n",
      "  [1. 1. 1.]]]\n"
     ]
    }
   ],
   "source": [
    "# your code here\n",
    "print(b)"
   ]
  },
  {
   "cell_type": "markdown",
   "metadata": {},
   "source": [
    "#### 7. Do *a* and *b* have the same size? How do you prove that in Python code?"
   ]
  },
  {
   "cell_type": "code",
   "execution_count": 9,
   "metadata": {},
   "outputs": [
    {
     "name": "stdout",
     "output_type": "stream",
     "text": [
      "30\n",
      "30\n"
     ]
    },
    {
     "data": {
      "text/plain": [
       "True"
      ]
     },
     "execution_count": 9,
     "metadata": {},
     "output_type": "execute_result"
    }
   ],
   "source": [
    "# your code here\n",
    "print(a.size)\n",
    "print(b.size)\n",
    "\n",
    "a.size==b.size\n"
   ]
  },
  {
   "cell_type": "markdown",
   "metadata": {},
   "source": [
    "#### 8. Are you able to add *a* and *b*? Why or why not?\n"
   ]
  },
  {
   "cell_type": "code",
   "execution_count": 10,
   "metadata": {},
   "outputs": [
    {
     "ename": "ValueError",
     "evalue": "all the input array dimensions for the concatenation axis must match exactly, but along dimension 1, the array at index 0 has size 3 and the array at index 1 has size 2",
     "output_type": "error",
     "traceback": [
      "\u001b[0;31m---------------------------------------------------------------------------\u001b[0m",
      "\u001b[0;31mValueError\u001b[0m                                Traceback (most recent call last)",
      "\u001b[0;32m<ipython-input-10-17de8825f8d8>\u001b[0m in \u001b[0;36m<module>\u001b[0;34m\u001b[0m\n\u001b[1;32m      1\u001b[0m \u001b[0;31m# your answer here - It is possible to add a and b, but we have to reshape them first. We either\u001b[0m\u001b[0;34m\u001b[0m\u001b[0;34m\u001b[0m\u001b[0;34m\u001b[0m\u001b[0m\n\u001b[1;32m      2\u001b[0m \u001b[0;31m# - Transform both of them to one-dimesion arrays and add them. If we do not perform the transformation beforehand we get the ValueError showed below\u001b[0m\u001b[0;34m\u001b[0m\u001b[0;34m\u001b[0m\u001b[0;34m\u001b[0m\u001b[0m\n\u001b[0;32m----> 3\u001b[0;31m \u001b[0mnp\u001b[0m\u001b[0;34m.\u001b[0m\u001b[0mconcatenate\u001b[0m\u001b[0;34m(\u001b[0m\u001b[0;34m[\u001b[0m\u001b[0ma\u001b[0m\u001b[0;34m,\u001b[0m\u001b[0mb\u001b[0m\u001b[0;34m]\u001b[0m\u001b[0;34m)\u001b[0m\u001b[0;34m\u001b[0m\u001b[0;34m\u001b[0m\u001b[0m\n\u001b[0m\u001b[1;32m      4\u001b[0m \u001b[0;31m# - Transform one of them to the shape of the other and add both afterwards. This is what we are going to do in the next step.\u001b[0m\u001b[0;34m\u001b[0m\u001b[0;34m\u001b[0m\u001b[0;34m\u001b[0m\u001b[0m\n",
      "\u001b[0;32m<__array_function__ internals>\u001b[0m in \u001b[0;36mconcatenate\u001b[0;34m(*args, **kwargs)\u001b[0m\n",
      "\u001b[0;31mValueError\u001b[0m: all the input array dimensions for the concatenation axis must match exactly, but along dimension 1, the array at index 0 has size 3 and the array at index 1 has size 2"
     ]
    }
   ],
   "source": [
    "# your answer here - It is possible to add a and b, but we have to reshape them first. We either\n",
    "# - Transform both of them to one-dimesion arrays and add them. If we do not perform the transformation beforehand we get the ValueError showed below\n",
    "np.concatenate([a,b])\n",
    "# - Transform one of them to the shape of the other and add both afterwards. This is what we are going to do in the next step.\n"
   ]
  },
  {
   "cell_type": "markdown",
   "metadata": {},
   "source": [
    "#### 9. Transpose *b* so that it has the same structure of *a* (i.e. become a 2x3x5 array). Assign the transposed array to variable *c*."
   ]
  },
  {
   "cell_type": "code",
   "execution_count": 11,
   "metadata": {},
   "outputs": [
    {
     "name": "stdout",
     "output_type": "stream",
     "text": [
      "[[[1. 1. 1. 1. 1.]\n",
      "  [1. 1. 1. 1. 1.]\n",
      "  [1. 1. 1. 1. 1.]]\n",
      "\n",
      " [[1. 1. 1. 1. 1.]\n",
      "  [1. 1. 1. 1. 1.]\n",
      "  [1. 1. 1. 1. 1.]]]\n"
     ]
    },
    {
     "data": {
      "text/plain": [
       "(2, 3, 5)"
      ]
     },
     "execution_count": 11,
     "metadata": {},
     "output_type": "execute_result"
    }
   ],
   "source": [
    "# your code here\n",
    "# It could also be done with c=np.reshape(b, a.size)\n",
    "c=b.transpose(1,2,0)\n",
    "print(c)\n",
    "c.shape"
   ]
  },
  {
   "cell_type": "markdown",
   "metadata": {},
   "source": [
    "#### 10. Try to add *a* and *c*. Now it should work. Assign the sum to variable *d*. But why does it work now?"
   ]
  },
  {
   "cell_type": "code",
   "execution_count": 12,
   "metadata": {},
   "outputs": [
    {
     "name": "stdout",
     "output_type": "stream",
     "text": [
      "[[[ 6.86154235 10.24548157 10.04600517  7.345395    8.4948785 ]\n",
      "  [ 6.67975236  6.11544794  6.87850396  8.02272966  6.98557893]\n",
      "  [ 6.71698846  8.93820659  7.89276723  7.94525871 10.91931996]]\n",
      "\n",
      " [[10.87098445  8.22228859  7.49968611 10.84793492  7.65388199]\n",
      "  [10.96519276  7.24641635  9.38471677  7.85583291 10.00577944]\n",
      "  [ 7.55141052  9.02951109  9.75544434 10.88300697 10.99392251]]]\n"
     ]
    }
   ],
   "source": [
    "# your code/answer here - Now it works because both a and c are in the same dimension/have the same shape\n",
    "# We could also perform this operation with d=a+c\n",
    "d=np.add(a,c)\n",
    "print(d)\n"
   ]
  },
  {
   "cell_type": "markdown",
   "metadata": {},
   "source": [
    "#### 11. Print *a* and *d*. Notice the difference and relation of the two array in terms of the values? Explain."
   ]
  },
  {
   "cell_type": "code",
   "execution_count": 13,
   "metadata": {},
   "outputs": [
    {
     "name": "stdout",
     "output_type": "stream",
     "text": [
      "[[[5.86154235 9.24548157 9.04600517 6.345395   7.4948785 ]\n",
      "  [5.67975236 5.11544794 5.87850396 7.02272966 5.98557893]\n",
      "  [5.71698846 7.93820659 6.89276723 6.94525871 9.91931996]]\n",
      "\n",
      " [[9.87098445 7.22228859 6.49968611 9.84793492 6.65388199]\n",
      "  [9.96519276 6.24641635 8.38471677 6.85583291 9.00577944]\n",
      "  [6.55141052 8.02951109 8.75544434 9.88300697 9.99392251]]]\n",
      "[[[ 6.86154235 10.24548157 10.04600517  7.345395    8.4948785 ]\n",
      "  [ 6.67975236  6.11544794  6.87850396  8.02272966  6.98557893]\n",
      "  [ 6.71698846  8.93820659  7.89276723  7.94525871 10.91931996]]\n",
      "\n",
      " [[10.87098445  8.22228859  7.49968611 10.84793492  7.65388199]\n",
      "  [10.96519276  7.24641635  9.38471677  7.85583291 10.00577944]\n",
      "  [ 7.55141052  9.02951109  9.75544434 10.88300697 10.99392251]]]\n"
     ]
    }
   ],
   "source": [
    "# your code/answer here \n",
    "# Difference - Array-d's values are exactly a-values' +1 and are located in the same position in both a and d \n",
    "# Relation - We should remember that d=a+b and b was made of ones, therefore when you add a and b, d is the expected result\n",
    "# Array d is equal to array a in size and shape. \n",
    "print(a)\n",
    "print(d)"
   ]
  },
  {
   "cell_type": "markdown",
   "metadata": {},
   "source": [
    "#### 12. Multiply *a* and *c*. Assign the result to *e*."
   ]
  },
  {
   "cell_type": "code",
   "execution_count": 14,
   "metadata": {},
   "outputs": [
    {
     "name": "stdout",
     "output_type": "stream",
     "text": [
      "[[[5.86154235 9.24548157 9.04600517 6.345395   7.4948785 ]\n",
      "  [5.67975236 5.11544794 5.87850396 7.02272966 5.98557893]\n",
      "  [5.71698846 7.93820659 6.89276723 6.94525871 9.91931996]]\n",
      "\n",
      " [[9.87098445 7.22228859 6.49968611 9.84793492 6.65388199]\n",
      "  [9.96519276 6.24641635 8.38471677 6.85583291 9.00577944]\n",
      "  [6.55141052 8.02951109 8.75544434 9.88300697 9.99392251]]]\n"
     ]
    }
   ],
   "source": [
    "# your code here\n",
    "# e=a*c\n",
    "e=np.multiply(a,c)\n",
    "print(e)"
   ]
  },
  {
   "cell_type": "markdown",
   "metadata": {},
   "source": [
    "#### 13. Does *e* equal to *a*? Why or why not?\n"
   ]
  },
  {
   "cell_type": "code",
   "execution_count": 15,
   "metadata": {},
   "outputs": [],
   "source": [
    "# your code/answer here\n",
    "# e is equal to a due to the fact that e is made up of 1 values. Thus, we could state that any array multiplied by another built-on-1-values array is equal to itself"
   ]
  },
  {
   "cell_type": "markdown",
   "metadata": {},
   "source": [
    "#### 14. Identify the max, min, and mean values in *d*. Assign those values to variables *d_max*, *d_min* and *d_mean*."
   ]
  },
  {
   "cell_type": "code",
   "execution_count": 16,
   "metadata": {},
   "outputs": [
    {
     "name": "stdout",
     "output_type": "stream",
     "text": [
      "10.993922506001503\n",
      "6.115447944733683\n",
      "8.628462203337538\n"
     ]
    }
   ],
   "source": [
    "# your code here\n",
    "d_max= np.max(d)\n",
    "print(d_max)\n",
    "d_min= np.min(d)\n",
    "print(d_min)\n",
    "d_mean= np.mean(d)\n",
    "print(d_mean)"
   ]
  },
  {
   "cell_type": "markdown",
   "metadata": {},
   "source": [
    "#### 15. Now we want to label the values in *d*. First create an empty array *f* with the same shape (i.e. 2x3x5) as *d* using `np.empty`.\n"
   ]
  },
  {
   "cell_type": "code",
   "execution_count": 17,
   "metadata": {},
   "outputs": [],
   "source": [
    "# your code here\n",
    "f=np.empty((2,3,5))"
   ]
  },
  {
   "cell_type": "markdown",
   "metadata": {},
   "source": [
    "#### 16. Populate the values in *f*. \n",
    "\n",
    "For each value in *d*, if it's larger than *d_min* but smaller than *d_mean*, assign 25 to the corresponding value in *f*. If a value in *d* is larger than *d_mean* but smaller than *d_max*, assign 75 to the corresponding value in *f*. If a value equals to *d_mean*, assign 50 to the corresponding value in *f*. Assign 0 to the corresponding value(s) in *f* for *d_min* in *d*. Assign 100 to the corresponding value(s) in *f* for *d_max* in *d*. In the end, f should have only the following values: 0, 25, 50, 75, and 100.\n",
    "\n",
    "**Note**: you don't have to use Numpy in this question."
   ]
  },
  {
   "cell_type": "code",
   "execution_count": 18,
   "metadata": {},
   "outputs": [
    {
     "name": "stdout",
     "output_type": "stream",
     "text": [
      "[[[ 25.  75.  75.  25.  25.]\n",
      "  [ 25.   0.  25.  25.  25.]\n",
      "  [ 25.  75.  25.  25.  75.]]\n",
      "\n",
      " [[ 75.  25.  25.  75.  25.]\n",
      "  [ 75.  25.  75.  25.  75.]\n",
      "  [ 25.  75.  75.  75. 100.]]]\n"
     ]
    }
   ],
   "source": [
    "# your code here\n",
    "\n",
    "f=np.where(d==d_min,0,d)\n",
    "f=np.where(((f>d_min)&(f<d_mean)),25,f)\n",
    "f=np.where(f==d_mean,50,f)\n",
    "f=np.where(((f>d_mean)&(f<d_max)),75,f)\n",
    "f=np.where(f==d_max,100,f)\n",
    "print(f)\n"
   ]
  },
  {
   "cell_type": "markdown",
   "metadata": {},
   "source": [
    "#### 17. Print *d* and *f*. Do you have your expected *f*?\n",
    "For instance, if your *d* is:\n",
    "```python\n",
    "[[[1.85836099, 1.67064465, 1.62576044, 1.40243961, 1.88454931],\n",
    "[1.75354326, 1.69403643, 1.36729252, 1.61415071, 1.12104981],\n",
    "[1.72201435, 1.1862918 , 1.87078449, 1.7726778 , 1.88180042]],\n",
    "[[1.44747908, 1.31673383, 1.02000951, 1.52218947, 1.97066381],\n",
    "[1.79129243, 1.74983003, 1.96028037, 1.85166831, 1.65450881],\n",
    "[1.18068344, 1.9587381 , 1.00656599, 1.93402165, 1.73514584]]]\n",
    "```\n",
    "Your *f* should be:\n",
    "```python\n",
    "[[[ 75.,  75.,  75.,  25.,  75.],\n",
    "[ 75.,  75.,  25.,  25.,  25.],\n",
    "[ 75.,  25.,  75.,  75.,  75.]],\n",
    "[[ 25.,  25.,  25.,  25., 100.],\n",
    "[ 75.,  75.,  75.,  75.,  75.],\n",
    "[ 25.,  75.,   0.,  75.,  75.]]]\n",
    "```"
   ]
  },
  {
   "cell_type": "code",
   "execution_count": 19,
   "metadata": {},
   "outputs": [
    {
     "name": "stdout",
     "output_type": "stream",
     "text": [
      "[[[ 6.86154235 10.24548157 10.04600517  7.345395    8.4948785 ]\n",
      "  [ 6.67975236  6.11544794  6.87850396  8.02272966  6.98557893]\n",
      "  [ 6.71698846  8.93820659  7.89276723  7.94525871 10.91931996]]\n",
      "\n",
      " [[10.87098445  8.22228859  7.49968611 10.84793492  7.65388199]\n",
      "  [10.96519276  7.24641635  9.38471677  7.85583291 10.00577944]\n",
      "  [ 7.55141052  9.02951109  9.75544434 10.88300697 10.99392251]]]\n",
      "[[[ 25.  75.  75.  25.  25.]\n",
      "  [ 25.   0.  25.  25.  25.]\n",
      "  [ 25.  75.  25.  25.  75.]]\n",
      "\n",
      " [[ 75.  25.  25.  75.  25.]\n",
      "  [ 75.  25.  75.  25.  75.]\n",
      "  [ 25.  75.  75.  75. 100.]]]\n"
     ]
    }
   ],
   "source": [
    "# your code here\n",
    "print(d)\n",
    "print(f)"
   ]
  },
  {
   "cell_type": "markdown",
   "metadata": {},
   "source": [
    "#### 18. Bonus question: instead of using numbers (i.e. 0, 25, 50, 75, and 100), use string values  (\"A\", \"B\", \"C\", \"D\", and \"E\") to label the array elements. For the example above, the expected result is:\n",
    "\n",
    "```python\n",
    "[[[ 'D',  'D',  'D',  'B',  'D'],\n",
    "[ 'D',  'D',  'B',  'B',  'B'],\n",
    "[ 'D',  'B',  'D',  'D',  'D']],\n",
    "[[ 'B',  'B',  'B',  'B',  'E'],\n",
    "[ 'D',  'D',  'D',  'D',  'D'],\n",
    "[ 'B',  'D',   'A',  'D', 'D']]]\n",
    "```\n",
    "**Note**: you don't have to use Numpy in this question."
   ]
  },
  {
   "cell_type": "code",
   "execution_count": 34,
   "metadata": {},
   "outputs": [],
   "source": [
    "# your code here\n",
    "g=np.empty((2,3,5)) "
   ]
  },
  {
   "cell_type": "code",
   "execution_count": 94,
   "metadata": {},
   "outputs": [
    {
     "name": "stdout",
     "output_type": "stream",
     "text": [
      "[[[ 25.  75.  75.  25.  25.]\n",
      "  [ 25.   0.  25.  25.  25.]\n",
      "  [ 25.  75.  25.  25.  75.]]\n",
      "\n",
      " [[ 75.  25.  25.  75.  25.]\n",
      "  [ 75.  25.  75.  25.  75.]\n",
      "  [ 25.  75.  75.  75. 100.]]]\n",
      "[[['B' 'D' 'D' 'B' 'B']\n",
      "  ['B' 'A' 'B' 'B' 'B']\n",
      "  ['B' 'D' 'B' 'B' 'D']]\n",
      "\n",
      " [['D' 'B' 'B' 'D' 'B']\n",
      "  ['D' 'B' 'D' 'B' 'D']\n",
      "  ['B' 'D' 'D' 'D' 'E']]]\n"
     ]
    }
   ],
   "source": [
    "lista=[]\n",
    "for i in np.nditer((f)):\n",
    "    if i==0:\n",
    "        lista.append(['A'])\n",
    "    elif i==25:\n",
    "        lista.append(['B'])\n",
    "    elif i==50:\n",
    "        lista.append('C')\n",
    "    elif i==75:\n",
    "        lista.append(['D'])\n",
    "    else:\n",
    "        lista.append(['E'])\n",
    "h=np.array(lista).reshape(2,3,5)\n",
    "print(f)\n",
    "print(h)"
   ]
  },
  {
   "cell_type": "code",
   "execution_count": null,
   "metadata": {},
   "outputs": [],
   "source": [
    "#Thinkful - Logic Drills: Red and bumpy"
   ]
  },
  {
   "cell_type": "code",
   "execution_count": null,
   "metadata": {},
   "outputs": [],
   "source": [
    "#Insert dashes\n",
    "lista=[]\n",
    "def insert_dash(num):\n",
    "    x=list(str(num))\n",
    "    acumulador=0\n",
    "    for y in x:\n",
    "        while acumulador<2:\n",
    "            if int(y)%2!=0 and int(y)>0:\n",
    "                acumulador=+1\n",
    "                lista.append(str(y))\n",
    "            else:\n",
    "                lista.append(y)\n",
    "        if acumulador>=2 and int(y)%2!=0 and int(y)>0:\n",
    "            y=str(y)+'-'\n",
    "            lista.append(y)\n",
    "        else:\n",
    "            lista.append(str(y))\n",
    "    return (''.join(lista))\n",
    "\n",
    "print(insert_dash(4322771))"
   ]
  },
  {
   "cell_type": "code",
   "execution_count": null,
   "metadata": {},
   "outputs": [],
   "source": []
  },
  {
   "cell_type": "code",
   "execution_count": null,
   "metadata": {},
   "outputs": [],
   "source": []
  },
  {
   "cell_type": "code",
   "execution_count": null,
   "metadata": {},
   "outputs": [],
   "source": []
  }
 ],
 "metadata": {
  "kernelspec": {
   "display_name": "Python 3",
   "language": "python",
   "name": "python3"
  },
  "language_info": {
   "codemirror_mode": {
    "name": "ipython",
    "version": 3
   },
   "file_extension": ".py",
   "mimetype": "text/x-python",
   "name": "python",
   "nbconvert_exporter": "python",
   "pygments_lexer": "ipython3",
   "version": "3.7.7"
  }
 },
 "nbformat": 4,
 "nbformat_minor": 2
}
