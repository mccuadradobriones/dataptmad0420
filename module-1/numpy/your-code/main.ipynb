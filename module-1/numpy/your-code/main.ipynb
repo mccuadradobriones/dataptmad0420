{
 "cells": [
  {
   "cell_type": "markdown",
   "metadata": {},
   "source": [
    "# Introduction to NumPy\n",
    "\n",
    "\n",
    "#### 1. Import NumPy under the name np."
   ]
  },
  {
   "cell_type": "code",
   "execution_count": 2,
   "metadata": {},
   "outputs": [],
   "source": [
    "# your code here\n",
    "import numpy as np"
   ]
  },
  {
   "cell_type": "markdown",
   "metadata": {},
   "source": [
    "#### 2. Print your NumPy version."
   ]
  },
  {
   "cell_type": "code",
   "execution_count": 3,
   "metadata": {},
   "outputs": [
    {
     "data": {
      "text/plain": [
       "'1.18.1'"
      ]
     },
     "execution_count": 3,
     "metadata": {},
     "output_type": "execute_result"
    }
   ],
   "source": [
    "# your code here\n",
    "np.__version__"
   ]
  },
  {
   "cell_type": "markdown",
   "metadata": {},
   "source": [
    "#### 3. Generate a 2x3x5 3-dimensional array with random values. Assign the array to variable *a*.\n",
    "**Challenge**: there are at least three easy ways that use numpy to generate random arrays. How many ways can you find?"
   ]
  },
  {
   "cell_type": "code",
   "execution_count": 4,
   "metadata": {},
   "outputs": [
    {
     "name": "stdout",
     "output_type": "stream",
     "text": [
      "[[[0.58420304 0.61774215 0.65209352 0.9906814  0.29303952]\n",
      "  [0.23092422 0.81161524 0.75891376 0.12911982 0.24634802]\n",
      "  [0.81097797 0.87601262 0.77738926 0.95213768 0.11401746]]\n",
      "\n",
      " [[0.65744246 0.60088703 0.9649272  0.1433301  0.02011123]\n",
      "  [0.08258693 0.98106899 0.66360739 0.71255791 0.06412842]\n",
      "  [0.80304906 0.9656661  0.90803837 0.74551461 0.25752653]]]\n"
     ]
    }
   ],
   "source": [
    "# Method 1 - This method creates an aleatory array\n",
    "# a=np.random.rand(2,3,5) have the same output\n",
    "a=np.random.random([2,3,5])\n",
    "print((a))"
   ]
  },
  {
   "cell_type": "code",
   "execution_count": 5,
   "metadata": {},
   "outputs": [
    {
     "name": "stdout",
     "output_type": "stream",
     "text": [
      "[[[26 13 10 17 14]\n",
      "  [38  1 15  0  7]\n",
      "  [16 31  6 17 39]]\n",
      "\n",
      " [[13 33 12 27  0]\n",
      "  [ 5  0  8 11 39]\n",
      "  [25 25  2  0 33]]]\n"
     ]
    }
   ],
   "source": [
    "# Method 2 - This method creates an array containing random integer values between 0 and 40\n",
    "a=np.random.randint(0, 40, size=(2, 3, 5))\n",
    "print(a)"
   ]
  },
  {
   "cell_type": "code",
   "execution_count": 6,
   "metadata": {},
   "outputs": [
    {
     "name": "stdout",
     "output_type": "stream",
     "text": [
      "[[[5.95041675 6.67249895 5.15465704 5.92923976 9.76483128]\n",
      "  [8.00502942 5.13106995 7.70069929 7.44972449 5.10250512]\n",
      "  [9.3005205  8.96802793 7.54665088 6.02493948 5.13839005]]\n",
      "\n",
      " [[8.508652   6.04613839 9.04608488 5.978252   7.78265937]\n",
      "  [6.26345573 6.88813917 9.53636626 5.02590278 6.88430092]\n",
      "  [5.31484761 6.71552066 8.25059843 5.20847041 8.49658928]]]\n"
     ]
    }
   ],
   "source": [
    "# Method 3 - This method creates an array containing random floating values between 10 and 5\n",
    "a=np.random.uniform(10,5,(2,3,5))\n",
    "print(a)\n"
   ]
  },
  {
   "cell_type": "markdown",
   "metadata": {},
   "source": [
    "#### 4. Print *a*.\n"
   ]
  },
  {
   "cell_type": "code",
   "execution_count": 7,
   "metadata": {},
   "outputs": [
    {
     "name": "stdout",
     "output_type": "stream",
     "text": [
      "[[[5.95041675 6.67249895 5.15465704 5.92923976 9.76483128]\n",
      "  [8.00502942 5.13106995 7.70069929 7.44972449 5.10250512]\n",
      "  [9.3005205  8.96802793 7.54665088 6.02493948 5.13839005]]\n",
      "\n",
      " [[8.508652   6.04613839 9.04608488 5.978252   7.78265937]\n",
      "  [6.26345573 6.88813917 9.53636626 5.02590278 6.88430092]\n",
      "  [5.31484761 6.71552066 8.25059843 5.20847041 8.49658928]]]\n"
     ]
    }
   ],
   "source": [
    "# your code here\n",
    "print(a)"
   ]
  },
  {
   "cell_type": "markdown",
   "metadata": {},
   "source": [
    "#### 5. Create a 5x2x3 3-dimensional array with all values equaling 1. Assign the array to variable *b*."
   ]
  },
  {
   "cell_type": "code",
   "execution_count": 8,
   "metadata": {},
   "outputs": [],
   "source": [
    "# your code here\n",
    "b=np.ones([5,2,3])"
   ]
  },
  {
   "cell_type": "markdown",
   "metadata": {},
   "source": [
    "#### 6. Print *b*.\n"
   ]
  },
  {
   "cell_type": "code",
   "execution_count": 9,
   "metadata": {},
   "outputs": [
    {
     "name": "stdout",
     "output_type": "stream",
     "text": [
      "[[[1. 1. 1.]\n",
      "  [1. 1. 1.]]\n",
      "\n",
      " [[1. 1. 1.]\n",
      "  [1. 1. 1.]]\n",
      "\n",
      " [[1. 1. 1.]\n",
      "  [1. 1. 1.]]\n",
      "\n",
      " [[1. 1. 1.]\n",
      "  [1. 1. 1.]]\n",
      "\n",
      " [[1. 1. 1.]\n",
      "  [1. 1. 1.]]]\n"
     ]
    }
   ],
   "source": [
    "# your code here\n",
    "print(b)"
   ]
  },
  {
   "cell_type": "markdown",
   "metadata": {},
   "source": [
    "#### 7. Do *a* and *b* have the same size? How do you prove that in Python code?"
   ]
  },
  {
   "cell_type": "code",
   "execution_count": 10,
   "metadata": {},
   "outputs": [
    {
     "name": "stdout",
     "output_type": "stream",
     "text": [
      "30\n",
      "30\n"
     ]
    },
    {
     "data": {
      "text/plain": [
       "True"
      ]
     },
     "execution_count": 10,
     "metadata": {},
     "output_type": "execute_result"
    }
   ],
   "source": [
    "# your code here\n",
    "print(a.size)\n",
    "print(b.size)\n",
    "\n",
    "a.size==b.size\n"
   ]
  },
  {
   "cell_type": "markdown",
   "metadata": {},
   "source": [
    "#### 8. Are you able to add *a* and *b*? Why or why not?\n"
   ]
  },
  {
   "cell_type": "code",
   "execution_count": 11,
   "metadata": {},
   "outputs": [
    {
     "ename": "ValueError",
     "evalue": "all the input array dimensions for the concatenation axis must match exactly, but along dimension 1, the array at index 0 has size 3 and the array at index 1 has size 2",
     "output_type": "error",
     "traceback": [
      "\u001b[0;31m---------------------------------------------------------------------------\u001b[0m",
      "\u001b[0;31mValueError\u001b[0m                                Traceback (most recent call last)",
      "\u001b[0;32m<ipython-input-11-17de8825f8d8>\u001b[0m in \u001b[0;36m<module>\u001b[0;34m\u001b[0m\n\u001b[1;32m      1\u001b[0m \u001b[0;31m# your answer here - It is possible to add a and b, but we have to reshape them first. We either\u001b[0m\u001b[0;34m\u001b[0m\u001b[0;34m\u001b[0m\u001b[0;34m\u001b[0m\u001b[0m\n\u001b[1;32m      2\u001b[0m \u001b[0;31m# - Transform both of them to one-dimesion arrays and add them. If we do not perform the transformation beforehand we get the ValueError showed below\u001b[0m\u001b[0;34m\u001b[0m\u001b[0;34m\u001b[0m\u001b[0;34m\u001b[0m\u001b[0m\n\u001b[0;32m----> 3\u001b[0;31m \u001b[0mnp\u001b[0m\u001b[0;34m.\u001b[0m\u001b[0mconcatenate\u001b[0m\u001b[0;34m(\u001b[0m\u001b[0;34m[\u001b[0m\u001b[0ma\u001b[0m\u001b[0;34m,\u001b[0m\u001b[0mb\u001b[0m\u001b[0;34m]\u001b[0m\u001b[0;34m)\u001b[0m\u001b[0;34m\u001b[0m\u001b[0;34m\u001b[0m\u001b[0m\n\u001b[0m\u001b[1;32m      4\u001b[0m \u001b[0;31m# - Transform one of them to the shape of the other and add both afterwards. This is what we are going to do in the next step.\u001b[0m\u001b[0;34m\u001b[0m\u001b[0;34m\u001b[0m\u001b[0;34m\u001b[0m\u001b[0m\n",
      "\u001b[0;32m<__array_function__ internals>\u001b[0m in \u001b[0;36mconcatenate\u001b[0;34m(*args, **kwargs)\u001b[0m\n",
      "\u001b[0;31mValueError\u001b[0m: all the input array dimensions for the concatenation axis must match exactly, but along dimension 1, the array at index 0 has size 3 and the array at index 1 has size 2"
     ]
    }
   ],
   "source": [
    "# your answer here - It is possible to add a and b, but we have to reshape them first. We either\n",
    "# - Transform both of them to one-dimesion arrays and add them. If we do not perform the transformation beforehand we get the ValueError showed below\n",
    "np.concatenate([a,b])\n",
    "# - Transform one of them to the shape of the other and add both afterwards. This is what we are going to do in the next step.\n"
   ]
  },
  {
   "cell_type": "markdown",
   "metadata": {},
   "source": [
    "#### 9. Transpose *b* so that it has the same structure of *a* (i.e. become a 2x3x5 array). Assign the transposed array to variable *c*."
   ]
  },
  {
   "cell_type": "code",
   "execution_count": 12,
   "metadata": {},
   "outputs": [
    {
     "name": "stdout",
     "output_type": "stream",
     "text": [
      "[[[1. 1. 1. 1. 1.]\n",
      "  [1. 1. 1. 1. 1.]\n",
      "  [1. 1. 1. 1. 1.]]\n",
      "\n",
      " [[1. 1. 1. 1. 1.]\n",
      "  [1. 1. 1. 1. 1.]\n",
      "  [1. 1. 1. 1. 1.]]]\n"
     ]
    },
    {
     "data": {
      "text/plain": [
       "(2, 3, 5)"
      ]
     },
     "execution_count": 12,
     "metadata": {},
     "output_type": "execute_result"
    }
   ],
   "source": [
    "# your code here\n",
    "# It could also be done with c=np.reshape(b, a.size)\n",
    "c=b.transpose(1,2,0)\n",
    "print(c)\n",
    "c.shape"
   ]
  },
  {
   "cell_type": "markdown",
   "metadata": {},
   "source": [
    "#### 10. Try to add *a* and *c*. Now it should work. Assign the sum to variable *d*. But why does it work now?"
   ]
  },
  {
   "cell_type": "code",
   "execution_count": 13,
   "metadata": {},
   "outputs": [
    {
     "name": "stdout",
     "output_type": "stream",
     "text": [
      "[[[ 6.95041675  7.67249895  6.15465704  6.92923976 10.76483128]\n",
      "  [ 9.00502942  6.13106995  8.70069929  8.44972449  6.10250512]\n",
      "  [10.3005205   9.96802793  8.54665088  7.02493948  6.13839005]]\n",
      "\n",
      " [[ 9.508652    7.04613839 10.04608488  6.978252    8.78265937]\n",
      "  [ 7.26345573  7.88813917 10.53636626  6.02590278  7.88430092]\n",
      "  [ 6.31484761  7.71552066  9.25059843  6.20847041  9.49658928]]]\n"
     ]
    }
   ],
   "source": [
    "# your code/answer here - Now it works because both a and c are in the same dimension/have the same shape\n",
    "# We could also perform this operation with d=a+c\n",
    "d=np.add(a,c)\n",
    "print(d)\n"
   ]
  },
  {
   "cell_type": "markdown",
   "metadata": {},
   "source": [
    "#### 11. Print *a* and *d*. Notice the difference and relation of the two array in terms of the values? Explain."
   ]
  },
  {
   "cell_type": "code",
   "execution_count": 14,
   "metadata": {},
   "outputs": [
    {
     "name": "stdout",
     "output_type": "stream",
     "text": [
      "[[[5.95041675 6.67249895 5.15465704 5.92923976 9.76483128]\n",
      "  [8.00502942 5.13106995 7.70069929 7.44972449 5.10250512]\n",
      "  [9.3005205  8.96802793 7.54665088 6.02493948 5.13839005]]\n",
      "\n",
      " [[8.508652   6.04613839 9.04608488 5.978252   7.78265937]\n",
      "  [6.26345573 6.88813917 9.53636626 5.02590278 6.88430092]\n",
      "  [5.31484761 6.71552066 8.25059843 5.20847041 8.49658928]]]\n",
      "[[[ 6.95041675  7.67249895  6.15465704  6.92923976 10.76483128]\n",
      "  [ 9.00502942  6.13106995  8.70069929  8.44972449  6.10250512]\n",
      "  [10.3005205   9.96802793  8.54665088  7.02493948  6.13839005]]\n",
      "\n",
      " [[ 9.508652    7.04613839 10.04608488  6.978252    8.78265937]\n",
      "  [ 7.26345573  7.88813917 10.53636626  6.02590278  7.88430092]\n",
      "  [ 6.31484761  7.71552066  9.25059843  6.20847041  9.49658928]]]\n"
     ]
    }
   ],
   "source": [
    "# your code/answer here \n",
    "# Difference - Array-d's values are exactly a-values' +1 and are located in the same position in both a and d \n",
    "# Relation - We should remember that d=a+b and b was made of ones, therefore when you add a and b, d is the expected result\n",
    "# Array d is equal to array a in size and shape. \n",
    "print(a)\n",
    "print(d)"
   ]
  },
  {
   "cell_type": "markdown",
   "metadata": {},
   "source": [
    "#### 12. Multiply *a* and *c*. Assign the result to *e*."
   ]
  },
  {
   "cell_type": "code",
   "execution_count": 15,
   "metadata": {},
   "outputs": [
    {
     "name": "stdout",
     "output_type": "stream",
     "text": [
      "[[[5.95041675 6.67249895 5.15465704 5.92923976 9.76483128]\n",
      "  [8.00502942 5.13106995 7.70069929 7.44972449 5.10250512]\n",
      "  [9.3005205  8.96802793 7.54665088 6.02493948 5.13839005]]\n",
      "\n",
      " [[8.508652   6.04613839 9.04608488 5.978252   7.78265937]\n",
      "  [6.26345573 6.88813917 9.53636626 5.02590278 6.88430092]\n",
      "  [5.31484761 6.71552066 8.25059843 5.20847041 8.49658928]]]\n"
     ]
    }
   ],
   "source": [
    "# your code here\n",
    "# e=a*c\n",
    "e=np.multiply(a,c)\n",
    "print(e)"
   ]
  },
  {
   "cell_type": "markdown",
   "metadata": {},
   "source": [
    "#### 13. Does *e* equal to *a*? Why or why not?\n"
   ]
  },
  {
   "cell_type": "code",
   "execution_count": 16,
   "metadata": {},
   "outputs": [],
   "source": [
    "# your code/answer here\n",
    "# e is equal to a due to the fact that e is made up of 1 values. Thus, we could state that any array multiplied by another built-on-1-values array is equal to itself"
   ]
  },
  {
   "cell_type": "markdown",
   "metadata": {},
   "source": [
    "#### 14. Identify the max, min, and mean values in *d*. Assign those values to variables *d_max*, *d_min* and *d_mean*."
   ]
  },
  {
   "cell_type": "code",
   "execution_count": 17,
   "metadata": {},
   "outputs": [
    {
     "name": "stdout",
     "output_type": "stream",
     "text": [
      "10.764831277515563\n",
      "6.025902780212484\n",
      "7.99283929161842\n"
     ]
    }
   ],
   "source": [
    "# your code here\n",
    "d_max= np.max(d)\n",
    "print(d_max)\n",
    "d_min= np.min(d)\n",
    "print(d_min)\n",
    "d_mean= np.mean(d)\n",
    "print(d_mean)"
   ]
  },
  {
   "cell_type": "markdown",
   "metadata": {},
   "source": [
    "#### 15. Now we want to label the values in *d*. First create an empty array *f* with the same shape (i.e. 2x3x5) as *d* using `np.empty`.\n"
   ]
  },
  {
   "cell_type": "code",
   "execution_count": 18,
   "metadata": {},
   "outputs": [],
   "source": [
    "# your code here\n",
    "f=np.empty((2,3,5))"
   ]
  },
  {
   "cell_type": "markdown",
   "metadata": {},
   "source": [
    "#### 16. Populate the values in *f*. \n",
    "\n",
    "For each value in *d*, if it's larger than *d_min* but smaller than *d_mean*, assign 25 to the corresponding value in *f*. If a value in *d* is larger than *d_mean* but smaller than *d_max*, assign 75 to the corresponding value in *f*. If a value equals to *d_mean*, assign 50 to the corresponding value in *f*. Assign 0 to the corresponding value(s) in *f* for *d_min* in *d*. Assign 100 to the corresponding value(s) in *f* for *d_max* in *d*. In the end, f should have only the following values: 0, 25, 50, 75, and 100.\n",
    "\n",
    "**Note**: you don't have to use Numpy in this question."
   ]
  },
  {
   "cell_type": "code",
   "execution_count": 19,
   "metadata": {},
   "outputs": [
    {
     "name": "stdout",
     "output_type": "stream",
     "text": [
      "[[[ 25.  25.  25.  25. 100.]\n",
      "  [ 75.  25.  75.  75.  25.]\n",
      "  [ 75.  75.  75.  25.  25.]]\n",
      "\n",
      " [[ 75.  25.  75.  25.  75.]\n",
      "  [ 25.  25.  75.   0.  25.]\n",
      "  [ 25.  25.  75.  25.  75.]]]\n"
     ]
    }
   ],
   "source": [
    "# your code here\n",
    "\n",
    "f=np.where(d==d_min,0,d)\n",
    "f=np.where(((f>d_min)&(f<d_mean)),25,f)\n",
    "f=np.where(f==d_mean,50,f)\n",
    "f=np.where(((f>d_mean)&(f<d_max)),75,f)\n",
    "f=np.where(f==d_max,100,f)\n",
    "print(f)\n"
   ]
  },
  {
   "cell_type": "markdown",
   "metadata": {},
   "source": [
    "#### 17. Print *d* and *f*. Do you have your expected *f*?\n",
    "For instance, if your *d* is:\n",
    "```python\n",
    "[[[1.85836099, 1.67064465, 1.62576044, 1.40243961, 1.88454931],\n",
    "[1.75354326, 1.69403643, 1.36729252, 1.61415071, 1.12104981],\n",
    "[1.72201435, 1.1862918 , 1.87078449, 1.7726778 , 1.88180042]],\n",
    "[[1.44747908, 1.31673383, 1.02000951, 1.52218947, 1.97066381],\n",
    "[1.79129243, 1.74983003, 1.96028037, 1.85166831, 1.65450881],\n",
    "[1.18068344, 1.9587381 , 1.00656599, 1.93402165, 1.73514584]]]\n",
    "```\n",
    "Your *f* should be:\n",
    "```python\n",
    "[[[ 75.,  75.,  75.,  25.,  75.],\n",
    "[ 75.,  75.,  25.,  25.,  25.],\n",
    "[ 75.,  25.,  75.,  75.,  75.]],\n",
    "[[ 25.,  25.,  25.,  25., 100.],\n",
    "[ 75.,  75.,  75.,  75.,  75.],\n",
    "[ 25.,  75.,   0.,  75.,  75.]]]\n",
    "```"
   ]
  },
  {
   "cell_type": "code",
   "execution_count": 20,
   "metadata": {},
   "outputs": [
    {
     "name": "stdout",
     "output_type": "stream",
     "text": [
      "[[[ 6.95041675  7.67249895  6.15465704  6.92923976 10.76483128]\n",
      "  [ 9.00502942  6.13106995  8.70069929  8.44972449  6.10250512]\n",
      "  [10.3005205   9.96802793  8.54665088  7.02493948  6.13839005]]\n",
      "\n",
      " [[ 9.508652    7.04613839 10.04608488  6.978252    8.78265937]\n",
      "  [ 7.26345573  7.88813917 10.53636626  6.02590278  7.88430092]\n",
      "  [ 6.31484761  7.71552066  9.25059843  6.20847041  9.49658928]]]\n",
      "[[[ 25.  25.  25.  25. 100.]\n",
      "  [ 75.  25.  75.  75.  25.]\n",
      "  [ 75.  75.  75.  25.  25.]]\n",
      "\n",
      " [[ 75.  25.  75.  25.  75.]\n",
      "  [ 25.  25.  75.   0.  25.]\n",
      "  [ 25.  25.  75.  25.  75.]]]\n"
     ]
    }
   ],
   "source": [
    "# your code here\n",
    "print(d)\n",
    "print(f)"
   ]
  },
  {
   "cell_type": "markdown",
   "metadata": {},
   "source": [
    "#### 18. Bonus question: instead of using numbers (i.e. 0, 25, 50, 75, and 100), use string values  (\"A\", \"B\", \"C\", \"D\", and \"E\") to label the array elements. For the example above, the expected result is:\n",
    "\n",
    "```python\n",
    "[[[ 'D',  'D',  'D',  'B',  'D'],\n",
    "[ 'D',  'D',  'B',  'B',  'B'],\n",
    "[ 'D',  'B',  'D',  'D',  'D']],\n",
    "[[ 'B',  'B',  'B',  'B',  'E'],\n",
    "[ 'D',  'D',  'D',  'D',  'D'],\n",
    "[ 'B',  'D',   'A',  'D', 'D']]]\n",
    "```\n",
    "**Note**: you don't have to use Numpy in this question."
   ]
  },
  {
   "cell_type": "code",
   "execution_count": 21,
   "metadata": {},
   "outputs": [],
   "source": [
    "# your code here\n",
    "g=np.empty((2,3,5)) "
   ]
  },
  {
   "cell_type": "code",
   "execution_count": 22,
   "metadata": {},
   "outputs": [
    {
     "name": "stdout",
     "output_type": "stream",
     "text": [
      "[[[ 25.  25.  25.  25. 100.]\n",
      "  [ 75.  25.  75.  75.  25.]\n",
      "  [ 75.  75.  75.  25.  25.]]\n",
      "\n",
      " [[ 75.  25.  75.  25.  75.]\n",
      "  [ 25.  25.  75.   0.  25.]\n",
      "  [ 25.  25.  75.  25.  75.]]]\n",
      "[[['B' 'B' 'B' 'B' 'E']\n",
      "  ['D' 'B' 'D' 'D' 'B']\n",
      "  ['D' 'D' 'D' 'B' 'B']]\n",
      "\n",
      " [['D' 'B' 'D' 'B' 'D']\n",
      "  ['B' 'B' 'D' 'A' 'B']\n",
      "  ['B' 'B' 'D' 'B' 'D']]]\n"
     ]
    }
   ],
   "source": [
    "lista=[]\n",
    "for i in np.nditer((f)):\n",
    "    if i==0:\n",
    "        lista.append(['A'])\n",
    "    elif i==25:\n",
    "        lista.append(['B'])\n",
    "    elif i==50:\n",
    "        lista.append('C')\n",
    "    elif i==75:\n",
    "        lista.append(['D'])\n",
    "    else:\n",
    "        lista.append(['E'])\n",
    "h=np.array(lista).reshape(2,3,5)\n",
    "print(f)\n",
    "print(h)"
   ]
  },
  {
   "cell_type": "code",
   "execution_count": 88,
   "metadata": {},
   "outputs": [
    {
     "name": "stdout",
     "output_type": "stream",
     "text": [
      "0.57\n"
     ]
    }
   ],
   "source": [
    "#Thinkful - Logic Drills: Red and bumpy\n",
    "\n",
    "def truncate(num):\n",
    "    return int(num * 1000) / 1000\n",
    "\n",
    "def color_probability(color, texture):\n",
    "    result=0\n",
    "    if texture=='bumpy':\n",
    "        if color=='red':\n",
    "            result=4/7\n",
    "        elif color=='yellow':\n",
    "            result=2/7\n",
    "        else:\n",
    "            result=1/7\n",
    "    else:\n",
    "        result=1/3\n",
    "    result=truncate(result)\n",
    "    return (str(round(result,2)))\n",
    "print(color_probability('red', 'bumpy'))"
   ]
  },
  {
   "cell_type": "code",
   "execution_count": 79,
   "metadata": {},
   "outputs": [
    {
     "name": "stdout",
     "output_type": "stream",
     "text": [
      "4547-9-3\n"
     ]
    }
   ],
   "source": [
    "#Insert dashes\n",
    "def insert_dash(num):\n",
    "    x=list(str(num))\n",
    "    lista=[]\n",
    "    acumulador=0\n",
    "    for i in x:\n",
    "        if acumulador<1 and (int(i)%2!=0 and int(i)>0):\n",
    "            acumulador+=1\n",
    "            lista.append(str(i))\n",
    "        elif acumulador==1 and (int(i)%2!=0 and int(i)>0):\n",
    "            i='-'+str(i)\n",
    "            acumulador=1\n",
    "            lista.append(i)\n",
    "        else:\n",
    "            lista.append(i)\n",
    "            acumulador=0\n",
    "    result=str(''.join(lista))\n",
    "    return result\n",
    "   \n",
    "\n",
    "print(insert_dash(454793))"
   ]
  }
 ],
 "metadata": {
  "kernelspec": {
   "display_name": "Python 3",
   "language": "python",
   "name": "python3"
  },
  "language_info": {
   "codemirror_mode": {
    "name": "ipython",
    "version": 3
   },
   "file_extension": ".py",
   "mimetype": "text/x-python",
   "name": "python",
   "nbconvert_exporter": "python",
   "pygments_lexer": "ipython3",
   "version": "3.7.7"
  }
 },
 "nbformat": 4,
 "nbformat_minor": 2
}
