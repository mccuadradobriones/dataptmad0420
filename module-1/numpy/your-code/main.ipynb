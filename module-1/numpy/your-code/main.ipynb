{
 "cells": [
  {
   "cell_type": "markdown",
   "metadata": {},
   "source": [
    "# Introduction to NumPy\n",
    "\n",
    "\n",
    "#### 1. Import NumPy under the name np."
   ]
  },
  {
   "cell_type": "code",
   "execution_count": 3,
   "metadata": {},
   "outputs": [],
   "source": [
    "# your code here\n",
    "import numpy as np"
   ]
  },
  {
   "cell_type": "markdown",
   "metadata": {},
   "source": [
    "#### 2. Print your NumPy version."
   ]
  },
  {
   "cell_type": "code",
   "execution_count": 4,
   "metadata": {},
   "outputs": [
    {
     "data": {
      "text/plain": [
       "'1.18.1'"
      ]
     },
     "execution_count": 4,
     "metadata": {},
     "output_type": "execute_result"
    }
   ],
   "source": [
    "# your code here\n",
    "np.__version__"
   ]
  },
  {
   "cell_type": "markdown",
   "metadata": {},
   "source": [
    "#### 3. Generate a 2x3x5 3-dimensional array with random values. Assign the array to variable *a*.\n",
    "**Challenge**: there are at least three easy ways that use numpy to generate random arrays. How many ways can you find?"
   ]
  },
  {
   "cell_type": "code",
   "execution_count": 11,
   "metadata": {},
   "outputs": [
    {
     "name": "stdout",
     "output_type": "stream",
     "text": [
      "[[[0.99838793 0.45984518 0.09885453 0.96203105 0.37922413]\n",
      "  [0.97088357 0.77200522 0.49824274 0.58233222 0.00691056]\n",
      "  [0.23294058 0.7729932  0.00900425 0.41237839 0.49313201]]\n",
      "\n",
      " [[0.73464551 0.46018202 0.01219266 0.61001823 0.87225272]\n",
      "  [0.56630042 0.47899735 0.44215525 0.42424489 0.00115038]\n",
      "  [0.09219364 0.45999552 0.47053804 0.99748493 0.52375528]]]\n"
     ]
    }
   ],
   "source": [
    "# Method 1 - This method creates an aleatory array\n",
    "# a=np.random.rand(2,3,5) have the same output\n",
    "a=np.random.random([2,3,5])\n",
    "print((a))\n",
    "\n"
   ]
  },
  {
   "cell_type": "code",
   "execution_count": 12,
   "metadata": {},
   "outputs": [
    {
     "name": "stdout",
     "output_type": "stream",
     "text": [
      "[[[11 34 18 16 11]\n",
      "  [34  3 26  4  8]\n",
      "  [36 35 12 14 29]]\n",
      "\n",
      " [[10 14 25 24 11]\n",
      "  [ 5 14 17 10 26]\n",
      "  [ 0 35 13 32  3]]]\n"
     ]
    }
   ],
   "source": [
    "# Method 2 - This method creates an array containing random integer values between 0 and 40\n",
    "a=np.random.randint(0, 40, size=(2, 3, 5))\n",
    "print(a)"
   ]
  },
  {
   "cell_type": "code",
   "execution_count": 14,
   "metadata": {},
   "outputs": [
    {
     "name": "stdout",
     "output_type": "stream",
     "text": [
      "[[[5.6003183  8.82860696 6.32494318 5.12667439 9.82203527]\n",
      "  [5.0580303  7.48776554 5.36221326 5.60593115 9.27654086]\n",
      "  [7.02485697 7.21361525 6.09359964 8.76687761 8.43523864]]\n",
      "\n",
      " [[6.97314734 7.13726942 9.35711571 5.47328286 9.5620994 ]\n",
      "  [8.52753984 6.65091051 5.8405467  6.01109107 9.95214284]\n",
      "  [7.72718192 5.67568419 6.36823352 8.80216196 9.04125631]]]\n"
     ]
    }
   ],
   "source": [
    "# Method 3 - This method creates an array containing random floating values between 10 and 5\n",
    "a=np.random.uniform(10,5,(2,3,5))\n",
    "print(a)\n"
   ]
  },
  {
   "cell_type": "markdown",
   "metadata": {},
   "source": [
    "#### 4. Print *a*.\n"
   ]
  },
  {
   "cell_type": "code",
   "execution_count": 15,
   "metadata": {},
   "outputs": [
    {
     "name": "stdout",
     "output_type": "stream",
     "text": [
      "[[[5.6003183  8.82860696 6.32494318 5.12667439 9.82203527]\n",
      "  [5.0580303  7.48776554 5.36221326 5.60593115 9.27654086]\n",
      "  [7.02485697 7.21361525 6.09359964 8.76687761 8.43523864]]\n",
      "\n",
      " [[6.97314734 7.13726942 9.35711571 5.47328286 9.5620994 ]\n",
      "  [8.52753984 6.65091051 5.8405467  6.01109107 9.95214284]\n",
      "  [7.72718192 5.67568419 6.36823352 8.80216196 9.04125631]]]\n"
     ]
    }
   ],
   "source": [
    "# your code here\n",
    "print(a)"
   ]
  },
  {
   "cell_type": "markdown",
   "metadata": {},
   "source": [
    "#### 5. Create a 5x2x3 3-dimensional array with all values equaling 1. Assign the array to variable *b*."
   ]
  },
  {
   "cell_type": "code",
   "execution_count": 16,
   "metadata": {},
   "outputs": [],
   "source": [
    "# your code here\n",
    "b=np.ones([5,2,3])"
   ]
  },
  {
   "cell_type": "markdown",
   "metadata": {},
   "source": [
    "#### 6. Print *b*.\n"
   ]
  },
  {
   "cell_type": "code",
   "execution_count": 17,
   "metadata": {},
   "outputs": [
    {
     "name": "stdout",
     "output_type": "stream",
     "text": [
      "[[[1. 1. 1.]\n",
      "  [1. 1. 1.]]\n",
      "\n",
      " [[1. 1. 1.]\n",
      "  [1. 1. 1.]]\n",
      "\n",
      " [[1. 1. 1.]\n",
      "  [1. 1. 1.]]\n",
      "\n",
      " [[1. 1. 1.]\n",
      "  [1. 1. 1.]]\n",
      "\n",
      " [[1. 1. 1.]\n",
      "  [1. 1. 1.]]]\n"
     ]
    }
   ],
   "source": [
    "# your code here\n",
    "print(b)"
   ]
  },
  {
   "cell_type": "markdown",
   "metadata": {},
   "source": [
    "#### 7. Do *a* and *b* have the same size? How do you prove that in Python code?"
   ]
  },
  {
   "cell_type": "code",
   "execution_count": 18,
   "metadata": {},
   "outputs": [
    {
     "name": "stdout",
     "output_type": "stream",
     "text": [
      "30\n",
      "30\n"
     ]
    },
    {
     "data": {
      "text/plain": [
       "True"
      ]
     },
     "execution_count": 18,
     "metadata": {},
     "output_type": "execute_result"
    }
   ],
   "source": [
    "# your code here\n",
    "print(a.size)\n",
    "print(b.size)\n",
    "\n",
    "a.size==b.size\n"
   ]
  },
  {
   "cell_type": "markdown",
   "metadata": {},
   "source": [
    "#### 8. Are you able to add *a* and *b*? Why or why not?\n"
   ]
  },
  {
   "cell_type": "code",
   "execution_count": 12,
   "metadata": {},
   "outputs": [
    {
     "ename": "ValueError",
     "evalue": "all the input array dimensions for the concatenation axis must match exactly, but along dimension 1, the array at index 0 has size 3 and the array at index 1 has size 2",
     "output_type": "error",
     "traceback": [
      "\u001b[0;31m---------------------------------------------------------------------------\u001b[0m",
      "\u001b[0;31mValueError\u001b[0m                                Traceback (most recent call last)",
      "\u001b[0;32m<ipython-input-12-f56d9ed8961a>\u001b[0m in \u001b[0;36m<module>\u001b[0;34m\u001b[0m\n\u001b[1;32m      1\u001b[0m \u001b[0;31m# your answer here - It is possible to add a and b, but we have to reshape them first. We either\u001b[0m\u001b[0;34m\u001b[0m\u001b[0;34m\u001b[0m\u001b[0;34m\u001b[0m\u001b[0m\n\u001b[1;32m      2\u001b[0m \u001b[0;31m# - Transform both of them to one-dimesion arrays and add/concatenate them. If we do not perform the transformation beforehand we get the ValueError showed below\u001b[0m\u001b[0;34m\u001b[0m\u001b[0;34m\u001b[0m\u001b[0;34m\u001b[0m\u001b[0m\n\u001b[0;32m----> 3\u001b[0;31m \u001b[0mnp\u001b[0m\u001b[0;34m.\u001b[0m\u001b[0mconcatenate\u001b[0m\u001b[0;34m(\u001b[0m\u001b[0;34m[\u001b[0m\u001b[0ma\u001b[0m\u001b[0;34m,\u001b[0m\u001b[0mb\u001b[0m\u001b[0;34m]\u001b[0m\u001b[0;34m)\u001b[0m\u001b[0;34m\u001b[0m\u001b[0;34m\u001b[0m\u001b[0m\n\u001b[0m\u001b[1;32m      4\u001b[0m \u001b[0;31m# - Transform one of them to the shape of the other and add both afterwards. This is what we are going to do in the next step\u001b[0m\u001b[0;34m\u001b[0m\u001b[0;34m\u001b[0m\u001b[0;34m\u001b[0m\u001b[0m\n",
      "\u001b[0;32m<__array_function__ internals>\u001b[0m in \u001b[0;36mconcatenate\u001b[0;34m(*args, **kwargs)\u001b[0m\n",
      "\u001b[0;31mValueError\u001b[0m: all the input array dimensions for the concatenation axis must match exactly, but along dimension 1, the array at index 0 has size 3 and the array at index 1 has size 2"
     ]
    }
   ],
   "source": [
    "# your answer here - It is possible to add a and b, but we have to reshape them first. We either\n",
    "# - Transform both of them to one-dimesion arrays and add them. If we do not perform the transformation beforehand we get the ValueError showed below\n",
    "np.concatenate([a,b])\n",
    "# - Transform one of them to the shape of the other and add both afterwards. This is what we are going to do in the next step.\n"
   ]
  },
  {
   "cell_type": "markdown",
   "metadata": {},
   "source": [
    "#### 9. Transpose *b* so that it has the same structure of *a* (i.e. become a 2x3x5 array). Assign the transposed array to variable *c*."
   ]
  },
  {
   "cell_type": "code",
   "execution_count": 20,
   "metadata": {},
   "outputs": [
    {
     "name": "stdout",
     "output_type": "stream",
     "text": [
      "[[[1. 1. 1. 1. 1.]\n",
      "  [1. 1. 1. 1. 1.]\n",
      "  [1. 1. 1. 1. 1.]]\n",
      "\n",
      " [[1. 1. 1. 1. 1.]\n",
      "  [1. 1. 1. 1. 1.]\n",
      "  [1. 1. 1. 1. 1.]]]\n"
     ]
    },
    {
     "data": {
      "text/plain": [
       "(2, 3, 5)"
      ]
     },
     "execution_count": 20,
     "metadata": {},
     "output_type": "execute_result"
    }
   ],
   "source": [
    "# your code here\n",
    "# It could also be done with c=np.reshape(b, a.size)\n",
    "c=b.transpose(1,2,0)\n",
    "print(c)\n",
    "c.shape"
   ]
  },
  {
   "cell_type": "markdown",
   "metadata": {},
   "source": [
    "#### 10. Try to add *a* and *c*. Now it should work. Assign the sum to variable *d*. But why does it work now?"
   ]
  },
  {
   "cell_type": "code",
   "execution_count": 21,
   "metadata": {},
   "outputs": [
    {
     "name": "stdout",
     "output_type": "stream",
     "text": [
      "[[[ 6.6003183   9.82860696  7.32494318  6.12667439 10.82203527]\n",
      "  [ 6.0580303   8.48776554  6.36221326  6.60593115 10.27654086]\n",
      "  [ 8.02485697  8.21361525  7.09359964  9.76687761  9.43523864]]\n",
      "\n",
      " [[ 7.97314734  8.13726942 10.35711571  6.47328286 10.5620994 ]\n",
      "  [ 9.52753984  7.65091051  6.8405467   7.01109107 10.95214284]\n",
      "  [ 8.72718192  6.67568419  7.36823352  9.80216196 10.04125631]]]\n"
     ]
    }
   ],
   "source": [
    "# your code/answer here - Now it works because both a and c are in the same dimension/have the same shape\n",
    "# We could also perform this operation with d=a+c\n",
    "d=np.add(a,c)\n",
    "print(d)\n"
   ]
  },
  {
   "cell_type": "markdown",
   "metadata": {},
   "source": [
    "#### 11. Print *a* and *d*. Notice the difference and relation of the two array in terms of the values? Explain."
   ]
  },
  {
   "cell_type": "code",
   "execution_count": 24,
   "metadata": {},
   "outputs": [
    {
     "name": "stdout",
     "output_type": "stream",
     "text": [
      "[[[5.6003183  8.82860696 6.32494318 5.12667439 9.82203527]\n",
      "  [5.0580303  7.48776554 5.36221326 5.60593115 9.27654086]\n",
      "  [7.02485697 7.21361525 6.09359964 8.76687761 8.43523864]]\n",
      "\n",
      " [[6.97314734 7.13726942 9.35711571 5.47328286 9.5620994 ]\n",
      "  [8.52753984 6.65091051 5.8405467  6.01109107 9.95214284]\n",
      "  [7.72718192 5.67568419 6.36823352 8.80216196 9.04125631]]]\n",
      "[[[ 6.6003183   9.82860696  7.32494318  6.12667439 10.82203527]\n",
      "  [ 6.0580303   8.48776554  6.36221326  6.60593115 10.27654086]\n",
      "  [ 8.02485697  8.21361525  7.09359964  9.76687761  9.43523864]]\n",
      "\n",
      " [[ 7.97314734  8.13726942 10.35711571  6.47328286 10.5620994 ]\n",
      "  [ 9.52753984  7.65091051  6.8405467   7.01109107 10.95214284]\n",
      "  [ 8.72718192  6.67568419  7.36823352  9.80216196 10.04125631]]]\n"
     ]
    }
   ],
   "source": [
    "# your code/answer here \n",
    "# Difference - Array-d's values are exactly a-values' +1 and are located in the same position in both a and d \n",
    "# Relation - We should remember that d=a+b and b was made of ones, therefore when you add a and b, d is the expected result\n",
    "# Array d is equal to array a in size and shape. \n",
    "print(a)\n",
    "print(d)"
   ]
  },
  {
   "cell_type": "markdown",
   "metadata": {},
   "source": [
    "#### 12. Multiply *a* and *c*. Assign the result to *e*."
   ]
  },
  {
   "cell_type": "code",
   "execution_count": 25,
   "metadata": {},
   "outputs": [
    {
     "name": "stdout",
     "output_type": "stream",
     "text": [
      "[[[5.6003183  8.82860696 6.32494318 5.12667439 9.82203527]\n",
      "  [5.0580303  7.48776554 5.36221326 5.60593115 9.27654086]\n",
      "  [7.02485697 7.21361525 6.09359964 8.76687761 8.43523864]]\n",
      "\n",
      " [[6.97314734 7.13726942 9.35711571 5.47328286 9.5620994 ]\n",
      "  [8.52753984 6.65091051 5.8405467  6.01109107 9.95214284]\n",
      "  [7.72718192 5.67568419 6.36823352 8.80216196 9.04125631]]]\n"
     ]
    }
   ],
   "source": [
    "# your code here\n",
    "# e=a*c\n",
    "e=np.multiply(a,c)\n",
    "print(e)"
   ]
  },
  {
   "cell_type": "markdown",
   "metadata": {},
   "source": [
    "#### 13. Does *e* equal to *a*? Why or why not?\n"
   ]
  },
  {
   "cell_type": "code",
   "execution_count": 27,
   "metadata": {},
   "outputs": [],
   "source": [
    "# your code/answer here\n",
    "# e is equal to a due to the fact that e is made up of 1 values. Thus, we could state that any array multiplied by another built-on-1-values array is equal to itself"
   ]
  },
  {
   "cell_type": "markdown",
   "metadata": {},
   "source": [
    "#### 14. Identify the max, min, and mean values in *d*. Assign those values to variables *d_max*, *d_min* and *d_mean*."
   ]
  },
  {
   "cell_type": "code",
   "execution_count": 28,
   "metadata": {},
   "outputs": [
    {
     "name": "stdout",
     "output_type": "stream",
     "text": [
      "10.952142844286143\n",
      "6.058030296955993\n",
      "8.304230363297137\n"
     ]
    }
   ],
   "source": [
    "# your code here\n",
    "d_max= np.max(d)\n",
    "print(d_max)\n",
    "d_min= np.min(d)\n",
    "print(d_min)\n",
    "d_mean= np.mean(d)\n",
    "print(d_mean)"
   ]
  },
  {
   "cell_type": "markdown",
   "metadata": {},
   "source": [
    "#### 15. Now we want to label the values in *d*. First create an empty array *f* with the same shape (i.e. 2x3x5) as *d* using `np.empty`.\n"
   ]
  },
  {
   "cell_type": "code",
   "execution_count": 29,
   "metadata": {},
   "outputs": [],
   "source": [
    "# your code here\n",
    "f=np.empty((2,3,5))"
   ]
  },
  {
   "cell_type": "markdown",
   "metadata": {},
   "source": [
    "#### 16. Populate the values in *f*. \n",
    "\n",
    "For each value in *d*, if it's larger than *d_min* but smaller than *d_mean*, assign 25 to the corresponding value in *f*. If a value in *d* is larger than *d_mean* but smaller than *d_max*, assign 75 to the corresponding value in *f*. If a value equals to *d_mean*, assign 50 to the corresponding value in *f*. Assign 0 to the corresponding value(s) in *f* for *d_min* in *d*. Assign 100 to the corresponding value(s) in *f* for *d_max* in *d*. In the end, f should have only the following values: 0, 25, 50, 75, and 100.\n",
    "\n",
    "**Note**: you don't have to use Numpy in this question."
   ]
  },
  {
   "cell_type": "code",
   "execution_count": 34,
   "metadata": {},
   "outputs": [
    {
     "ename": "AxisError",
     "evalue": "axis 25 is out of bounds for array of dimension 3",
     "output_type": "error",
     "traceback": [
      "\u001b[0;31m---------------------------------------------------------------------------\u001b[0m",
      "\u001b[0;31mAxisError\u001b[0m                                 Traceback (most recent call last)",
      "\u001b[0;32m<ipython-input-34-55399049300c>\u001b[0m in \u001b[0;36m<module>\u001b[0;34m\u001b[0m\n\u001b[1;32m     12\u001b[0m     \u001b[0;32melse\u001b[0m\u001b[0;34m:\u001b[0m\u001b[0;34m\u001b[0m\u001b[0;34m\u001b[0m\u001b[0m\n\u001b[1;32m     13\u001b[0m         \u001b[0mx\u001b[0m\u001b[0;34m=\u001b[0m\u001b[0;36m100\u001b[0m\u001b[0;34m\u001b[0m\u001b[0;34m\u001b[0m\u001b[0m\n\u001b[0;32m---> 14\u001b[0;31m     \u001b[0mf\u001b[0m\u001b[0;34m.\u001b[0m\u001b[0mtake\u001b[0m\u001b[0;34m(\u001b[0m\u001b[0mi\u001b[0m\u001b[0;34m,\u001b[0m\u001b[0mx\u001b[0m\u001b[0;34m)\u001b[0m\u001b[0;34m\u001b[0m\u001b[0;34m\u001b[0m\u001b[0m\n\u001b[0m\u001b[1;32m     15\u001b[0m \u001b[0mprint\u001b[0m\u001b[0;34m(\u001b[0m\u001b[0mf\u001b[0m\u001b[0;34m)\u001b[0m\u001b[0;34m\u001b[0m\u001b[0;34m\u001b[0m\u001b[0m\n",
      "\u001b[0;31mAxisError\u001b[0m: axis 25 is out of bounds for array of dimension 3"
     ]
    }
   ],
   "source": [
    "# your code here\n",
    "\n",
    "for i in np.nditer(d):\n",
    "    if i==d_min:\n",
    "        x=0\n",
    "    elif i>d_min and i<d_mean:\n",
    "        x=25\n",
    "    elif i==d_mean:\n",
    "        x=50\n",
    "    elif i>d_mean and i<d_max:\n",
    "        x=75\n",
    "    else:\n",
    "        x=100\n",
    "    f.take(i,x,axis=3)\n",
    "print(f)"
   ]
  },
  {
   "cell_type": "markdown",
   "metadata": {},
   "source": [
    "#### 17. Print *d* and *f*. Do you have your expected *f*?\n",
    "For instance, if your *d* is:\n",
    "```python\n",
    "[[[1.85836099, 1.67064465, 1.62576044, 1.40243961, 1.88454931],\n",
    "[1.75354326, 1.69403643, 1.36729252, 1.61415071, 1.12104981],\n",
    "[1.72201435, 1.1862918 , 1.87078449, 1.7726778 , 1.88180042]],\n",
    "[[1.44747908, 1.31673383, 1.02000951, 1.52218947, 1.97066381],\n",
    "[1.79129243, 1.74983003, 1.96028037, 1.85166831, 1.65450881],\n",
    "[1.18068344, 1.9587381 , 1.00656599, 1.93402165, 1.73514584]]]\n",
    "```\n",
    "Your *f* should be:\n",
    "```python\n",
    "[[[ 75.,  75.,  75.,  25.,  75.],\n",
    "[ 75.,  75.,  25.,  25.,  25.],\n",
    "[ 75.,  25.,  75.,  75.,  75.]],\n",
    "[[ 25.,  25.,  25.,  25., 100.],\n",
    "[ 75.,  75.,  75.,  75.,  75.],\n",
    "[ 25.,  75.,   0.,  75.,  75.]]]\n",
    "```"
   ]
  },
  {
   "cell_type": "code",
   "execution_count": 31,
   "metadata": {},
   "outputs": [
    {
     "name": "stdout",
     "output_type": "stream",
     "text": [
      "[[[1.93246989 1.51368706 1.19665959 1.03488091 1.5422121 ]\n",
      "  [1.53318137 1.38255901 1.76674941 1.99914768 1.74529785]\n",
      "  [1.63547273 1.6912302  1.67625486 1.12735569 1.88607417]]\n",
      "\n",
      " [[1.06983199 1.61245687 1.18894929 1.52547461 1.85697949]\n",
      "  [1.475741   1.78733272 1.1249335  1.23594992 1.38979379]\n",
      "  [1.27558928 1.57207197 1.73530651 1.34434226 1.50400647]]]\n",
      "[[[0.93246989 0.51368706 0.19665959 0.03488091 0.5422121 ]\n",
      "  [0.53318137 0.38255901 0.76674941 0.99914768 0.74529785]\n",
      "  [0.63547273 0.6912302  0.67625486 0.12735569 0.88607417]]\n",
      "\n",
      " [[0.06983199 0.61245687 0.18894929 0.52547461 0.85697949]\n",
      "  [0.475741   0.78733272 0.1249335  0.23594992 0.38979379]\n",
      "  [0.27558928 0.57207197 0.73530651 0.34434226 0.50400647]]]\n"
     ]
    }
   ],
   "source": [
    "# your code here\n",
    "print(d)\n",
    "print(f)"
   ]
  },
  {
   "cell_type": "markdown",
   "metadata": {},
   "source": [
    "#### 18. Bonus question: instead of using numbers (i.e. 0, 25, 50, 75, and 100), use string values  (\"A\", \"B\", \"C\", \"D\", and \"E\") to label the array elements. For the example above, the expected result is:\n",
    "\n",
    "```python\n",
    "[[[ 'D',  'D',  'D',  'B',  'D'],\n",
    "[ 'D',  'D',  'B',  'B',  'B'],\n",
    "[ 'D',  'B',  'D',  'D',  'D']],\n",
    "[[ 'B',  'B',  'B',  'B',  'E'],\n",
    "[ 'D',  'D',  'D',  'D',  'D'],\n",
    "[ 'B',  'D',   'A',  'D', 'D']]]\n",
    "```\n",
    "**Note**: you don't have to use Numpy in this question."
   ]
  },
  {
   "cell_type": "code",
   "execution_count": null,
   "metadata": {},
   "outputs": [],
   "source": [
    "# your code here"
   ]
  },
  {
   "cell_type": "code",
   "execution_count": null,
   "metadata": {},
   "outputs": [],
   "source": []
  },
  {
   "cell_type": "code",
   "execution_count": null,
   "metadata": {},
   "outputs": [],
   "source": []
  }
 ],
 "metadata": {
  "kernelspec": {
   "display_name": "Python 3",
   "language": "python",
   "name": "python3"
  },
  "language_info": {
   "codemirror_mode": {
    "name": "ipython",
    "version": 3
   },
   "file_extension": ".py",
   "mimetype": "text/x-python",
   "name": "python",
   "nbconvert_exporter": "python",
   "pygments_lexer": "ipython3",
   "version": "3.7.7"
  }
 },
 "nbformat": 4,
 "nbformat_minor": 2
}
