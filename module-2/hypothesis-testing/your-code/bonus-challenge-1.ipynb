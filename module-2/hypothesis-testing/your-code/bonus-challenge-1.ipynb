{
 "cells": [
  {
   "cell_type": "markdown",
   "metadata": {},
   "source": [
    "# Bonus Challenge 1 - T-test\n",
    "\n",
    "In statistics, t-test is used to test if two data samples have a significant difference between their means. There are two types of t-test:\n",
    "\n",
    "* **Student's t-test** (a.k.a. independent or uncorrelated t-test). This type of t-test is to compare the samples of **two independent populations** (e.g. test scores of students in two different classes). `scipy` provides the [`ttest_ind`](https://docs.scipy.org/doc/scipy-0.15.1/reference/generated/scipy.stats.ttest_ind.html) method to conduct student's t-test.\n",
    "\n",
    "* **Paired t-test** (a.k.a. dependent or correlated t-test). This type of t-test is to compare the samples of **the same population** (e.g. scores of different tests of students in the same class). `scipy` provides the [`ttest_re`](https://docs.scipy.org/doc/scipy-0.15.1/reference/generated/scipy.stats.ttest_rel.html) method to conduct paired t-test.\n",
    "\n",
    "Both types of t-tests return a number which is called the **p-value**. If p-value is below 0.05, we can confidently declare the null-hypothesis is rejected and the difference is significant. If p-value is between 0.05 and 0.1, we may also declare the null-hypothesis is rejected but we are not highly confident. If p-value is above 0.1 we do not reject the null-hypothesis.\n",
    "\n",
    "Read more about the t-test in [this article](http://b.link/test50) and [this Quora](http://b.link/unpaired97). Make sure you understand when to use which type of t-test. "
   ]
  },
  {
   "cell_type": "code",
   "execution_count": 7,
   "metadata": {},
   "outputs": [],
   "source": [
    "# Import libraries\n",
    "import matplotlib.pyplot as plt\n",
    "import numpy as np\n",
    "import pandas as pd\n",
    "\n",
    "from scipy.stats import t\n",
    "from scipy.stats import norm\n",
    "from scipy.stats import ttest_1samp\n",
    "\n",
    "%matplotlib inline"
   ]
  },
  {
   "cell_type": "markdown",
   "metadata": {},
   "source": [
    "#### Import dataset\n",
    "\n",
    "In this challenge we will work on the Pokemon dataset you have already used. The goal is to test whether different groups of pokemon (e.g. Legendary vs Normal, Generation 1 vs 2, single-type vs dual-type) have different stats (e.g. HP, Attack, Defense, etc.). Use Ironhack's database to load the data (db: pokemon, table: pokemon_stats). "
   ]
  },
  {
   "cell_type": "code",
   "execution_count": 4,
   "metadata": {},
   "outputs": [],
   "source": [
    "# Your code here:\n",
    "df=pd.read_csv('/home/carmencuadrado/Ironhack/dataptmad0420/module-2/hypothesis-testing/hypothesis-testing.csv')"
   ]
  },
  {
   "cell_type": "code",
   "execution_count": 6,
   "metadata": {},
   "outputs": [
    {
     "data": {
      "text/plain": [
       "<bound method DataFrame.dropna of                            Name  \\\n",
       "0             AARON,  JEFFERY M   \n",
       "1               AARON,  KARINA    \n",
       "2           AARON,  KIMBERLEI R   \n",
       "3           ABAD JR,  VICENTE M   \n",
       "4             ABASCAL,  REECE E   \n",
       "5         ABBASI,  CHRISTOPHER    \n",
       "6         ABBATACOLA,  ROBERT J   \n",
       "7            ABBATE,  JOSEPH L    \n",
       "8         ABBATEMARCO,  JAMES J   \n",
       "9              ABBATE,  TERRY M   \n",
       "10             ABBOTT,  BETTY L   \n",
       "11             ABDALLAH,  ZAID    \n",
       "12       ABDELHADI,  ABDALMAHD    \n",
       "13          ABDELLATIF,  AREF R   \n",
       "14          ABDELMAJEID,  AZIZ    \n",
       "15         ABDOLLAHZADEH,  ALI    \n",
       "16     ABDUL-KARIM,  MUHAMMAD A   \n",
       "17          ABDULLAH,  DANIEL N   \n",
       "18         ABDULLAH,  LAKENYA N   \n",
       "19           ABDULLAH,  RASHAD    \n",
       "20        ABDULSATTAR,  MUDHAR    \n",
       "21        ABDUL-SHAKUR,  TAHIR    \n",
       "22            ABEJERO,  JASON V   \n",
       "23      ABERCROMBIE IV,  EARL S   \n",
       "24       ABERCROMBIE,  TIMOTHY    \n",
       "25           ABFALL,  RICHARD C   \n",
       "26           ABIOYE,  ADEWOLE A   \n",
       "27             ABNEY,  PATRICK    \n",
       "28            ABOUASSI,  CHADI    \n",
       "29       ABOUELKHEIR,  HASSAN A   \n",
       "...                         ...   \n",
       "33153             ZUNIGA,  NOE    \n",
       "33154           ZUNIGA,  OSCAR    \n",
       "33155          ZUNIGA,  RONALD    \n",
       "33156          ZUNIGA,  THOMAS    \n",
       "33157         ZUNIGA,  VICENTE    \n",
       "33158              ZUNO,  ERIK    \n",
       "33159            ZUPAN,  BILL M   \n",
       "33160         ZUPANCIC,  KELLY    \n",
       "33161       ZURAWSKI,  JEFFREY    \n",
       "33162         ZURAWSKI,  MAC Z    \n",
       "33163         ZURAWSKI,  MARY E   \n",
       "33164          ZUREK,  FRANCIS    \n",
       "33165            ZUREK,  MARY H   \n",
       "33166          ZURITA,  ADRIEL    \n",
       "33167           ZVANJA,  TINA M   \n",
       "33168    ZWARYCZ MANN,  IRENE A   \n",
       "33169        ZWARYCZ,  THOMAS J   \n",
       "33170          ZWIT,  JEFFREY J   \n",
       "33171       ZWOLFER,  MATTHEW W   \n",
       "33172           ZYCH,  MATEUSZ    \n",
       "33173            ZYDEK,  BRYAN    \n",
       "33174          ZYGADLO,  JOHN P   \n",
       "33175       ZYGADLO,  MICHAEL J   \n",
       "33176          ZYGMUNT,  ARTUR    \n",
       "33177          ZYGMUNT,  DAWID    \n",
       "33178     ZYLINSKA,  KATARZYNA    \n",
       "33179        ZYMANTAS,  LAURA C   \n",
       "33180         ZYMANTAS,  MARK E   \n",
       "33181       ZYRKOWSKI,  CARLO E   \n",
       "33182      ZYSKOWSKI,  DARIUSZ    \n",
       "\n",
       "                                          Job Titles        Department  \\\n",
       "0                                           SERGEANT            POLICE   \n",
       "1             POLICE OFFICER (ASSIGNED AS DETECTIVE)            POLICE   \n",
       "2                           CHIEF CONTRACT EXPEDITER  GENERAL SERVICES   \n",
       "3                                  CIVIL ENGINEER IV       WATER MGMNT   \n",
       "4                        TRAFFIC CONTROL AIDE-HOURLY              OEMC   \n",
       "5                         STAFF ASST TO THE ALDERMAN      CITY COUNCIL   \n",
       "6                                ELECTRICAL MECHANIC          AVIATION   \n",
       "7                            POOL MOTOR TRUCK DRIVER     STREETS & SAN   \n",
       "8                                  FIRE ENGINEER-EMT              FIRE   \n",
       "9                                     POLICE OFFICER            POLICE   \n",
       "10                                FOSTER GRANDPARENT  FAMILY & SUPPORT   \n",
       "11                                    POLICE OFFICER            POLICE   \n",
       "12                                    POLICE OFFICER            POLICE   \n",
       "13     FIREFIGHTER (PER ARBITRATORS AWARD)-PARAMEDIC              FIRE   \n",
       "14                                    POLICE OFFICER            POLICE   \n",
       "15                             FIREFIGHTER/PARAMEDIC              FIRE   \n",
       "16                         ENGINEERING TECHNICIAN VI       WATER MGMNT   \n",
       "17                                   FIREFIGHTER-EMT              FIRE   \n",
       "18                                    CROSSING GUARD              OEMC   \n",
       "19                  ELECTRICAL MECHANIC (AUTOMOTIVE)  GENERAL SERVICES   \n",
       "20                                 CIVIL ENGINEER II       WATER MGMNT   \n",
       "21                             GENERAL LABORER - DSS     STREETS & SAN   \n",
       "22                                    POLICE OFFICER            POLICE   \n",
       "23                                     PARAMEDIC I/C              FIRE   \n",
       "24                                MOTOR TRUCK DRIVER     STREETS & SAN   \n",
       "25                                    POLICE OFFICER            POLICE   \n",
       "26                        LIBRARY ASSOCIATE - HOURLY    PUBLIC LIBRARY   \n",
       "27                                    POLICE OFFICER            POLICE   \n",
       "28                                    POLICE OFFICER            POLICE   \n",
       "29                         SENIOR PROGRAMMER/ANALYST  FAMILY & SUPPORT   \n",
       "...                                              ...               ...   \n",
       "33153                                 POLICE OFFICER            POLICE   \n",
       "33154                                 POLICE OFFICER            POLICE   \n",
       "33155                                 POLICE OFFICER            POLICE   \n",
       "33156                          GENERAL LABORER - DSS     STREETS & SAN   \n",
       "33157                                FIREFIGHTER-EMT              FIRE   \n",
       "33158                           CONSTRUCTION LABORER       WATER MGMNT   \n",
       "33159                                 LIEUTENANT-EMT              FIRE   \n",
       "33160                                 POLICE OFFICER            POLICE   \n",
       "33161                 FRM OF MACHINISTS - AUTOMOTIVE  GENERAL SERVICES   \n",
       "33162                        REFUSE COLLECTION COORD     STREETS & SAN   \n",
       "33163                                 POLICE OFFICER            POLICE   \n",
       "33164                            ELECTRICAL MECHANIC              OEMC   \n",
       "33165              SENIOR PUBLIC INFORMATION OFFICER           FINANCE   \n",
       "33166                                 POLICE OFFICER            POLICE   \n",
       "33167                                LEGAL SECRETARY               LAW   \n",
       "33168                                 CROSSING GUARD              OEMC   \n",
       "33169                        POOL MOTOR TRUCK DRIVER       WATER MGMNT   \n",
       "33170                                 POLICE OFFICER            POLICE   \n",
       "33171                                 LIEUTENANT-EMT              FIRE   \n",
       "33172                                 POLICE OFFICER            POLICE   \n",
       "33173                                 POLICE OFFICER            POLICE   \n",
       "33174                         MACHINIST (AUTOMOTIVE)  GENERAL SERVICES   \n",
       "33175                 FRM OF MACHINISTS - AUTOMOTIVE  GENERAL SERVICES   \n",
       "33176                                 POLICE OFFICER            POLICE   \n",
       "33177                                 POLICE OFFICER            POLICE   \n",
       "33178                                 POLICE OFFICER            POLICE   \n",
       "33179                                 POLICE OFFICER            POLICE   \n",
       "33180                                 POLICE OFFICER            POLICE   \n",
       "33181                                 POLICE OFFICER            POLICE   \n",
       "33182                        CHIEF DATA BASE ANALYST              DoIT   \n",
       "\n",
       "      Full or Part-Time Salary or Hourly  Typical Hours  Annual Salary  \\\n",
       "0                     F           Salary            NaN       101442.0   \n",
       "1                     F           Salary            NaN        94122.0   \n",
       "2                     F           Salary            NaN       101592.0   \n",
       "3                     F           Salary            NaN       110064.0   \n",
       "4                     P           Hourly           20.0            NaN   \n",
       "5                     F           Salary            NaN        50436.0   \n",
       "6                     F           Hourly           40.0            NaN   \n",
       "7                     F           Hourly           40.0            NaN   \n",
       "8                     F           Salary            NaN       103350.0   \n",
       "9                     F           Salary            NaN        93354.0   \n",
       "10                    P           Hourly           20.0            NaN   \n",
       "11                    F           Salary            NaN        84054.0   \n",
       "12                    F           Salary            NaN        87006.0   \n",
       "13                    F           Salary            NaN       102228.0   \n",
       "14                    F           Salary            NaN        84054.0   \n",
       "15                    F           Salary            NaN        91272.0   \n",
       "16                    F           Salary            NaN       111492.0   \n",
       "17                    F           Salary            NaN        95484.0   \n",
       "18                    P           Hourly           20.0            NaN   \n",
       "19                    F           Hourly           40.0            NaN   \n",
       "20                    F           Salary            NaN        65448.0   \n",
       "21                    F           Hourly           40.0            NaN   \n",
       "22                    F           Salary            NaN        90024.0   \n",
       "23                    F           Salary            NaN        82614.0   \n",
       "24                    F           Hourly           40.0            NaN   \n",
       "25                    F           Salary            NaN        48078.0   \n",
       "26                    P           Hourly           20.0            NaN   \n",
       "27                    F           Salary            NaN        76266.0   \n",
       "28                    F           Salary            NaN        48078.0   \n",
       "29                    F           Salary            NaN       110064.0   \n",
       "...                 ...              ...            ...            ...   \n",
       "33153                 F           Salary            NaN        72510.0   \n",
       "33154                 F           Salary            NaN        84054.0   \n",
       "33155                 F           Salary            NaN        90024.0   \n",
       "33156                 F           Hourly           40.0            NaN   \n",
       "33157                 F           Salary            NaN        92274.0   \n",
       "33158                 F           Hourly           40.0            NaN   \n",
       "33159                 F           Salary            NaN       114324.0   \n",
       "33160                 F           Salary            NaN        76266.0   \n",
       "33161                 F           Hourly           40.0            NaN   \n",
       "33162                 F           Salary            NaN        76896.0   \n",
       "33163                 F           Salary            NaN        96060.0   \n",
       "33164                 F           Hourly           40.0            NaN   \n",
       "33165                 F           Salary            NaN        89076.0   \n",
       "33166                 F           Salary            NaN        76266.0   \n",
       "33167                 F           Salary            NaN        76932.0   \n",
       "33168                 P           Hourly           20.0            NaN   \n",
       "33169                 F           Hourly           40.0            NaN   \n",
       "33170                 F           Salary            NaN        90024.0   \n",
       "33171                 F           Salary            NaN       114324.0   \n",
       "33172                 F           Salary            NaN        72510.0   \n",
       "33173                 F           Salary            NaN        87006.0   \n",
       "33174                 F           Hourly           40.0            NaN   \n",
       "33175                 F           Hourly           40.0            NaN   \n",
       "33176                 F           Salary            NaN        48078.0   \n",
       "33177                 F           Salary            NaN        72510.0   \n",
       "33178                 F           Salary            NaN        72510.0   \n",
       "33179                 F           Salary            NaN        48078.0   \n",
       "33180                 F           Salary            NaN        90024.0   \n",
       "33181                 F           Salary            NaN        93354.0   \n",
       "33182                 F           Salary            NaN       115932.0   \n",
       "\n",
       "       Hourly Rate  \n",
       "0              NaN  \n",
       "1              NaN  \n",
       "2              NaN  \n",
       "3              NaN  \n",
       "4            19.86  \n",
       "5              NaN  \n",
       "6            46.10  \n",
       "7            35.60  \n",
       "8              NaN  \n",
       "9              NaN  \n",
       "10            2.65  \n",
       "11             NaN  \n",
       "12             NaN  \n",
       "13             NaN  \n",
       "14             NaN  \n",
       "15             NaN  \n",
       "16             NaN  \n",
       "17             NaN  \n",
       "18           17.68  \n",
       "19           46.10  \n",
       "20             NaN  \n",
       "21           21.43  \n",
       "22             NaN  \n",
       "23             NaN  \n",
       "24           35.60  \n",
       "25             NaN  \n",
       "26           25.10  \n",
       "27             NaN  \n",
       "28             NaN  \n",
       "29             NaN  \n",
       "...            ...  \n",
       "33153          NaN  \n",
       "33154          NaN  \n",
       "33155          NaN  \n",
       "33156        22.12  \n",
       "33157          NaN  \n",
       "33158        40.20  \n",
       "33159          NaN  \n",
       "33160          NaN  \n",
       "33161        48.85  \n",
       "33162          NaN  \n",
       "33163          NaN  \n",
       "33164        46.10  \n",
       "33165          NaN  \n",
       "33166          NaN  \n",
       "33167          NaN  \n",
       "33168        17.68  \n",
       "33169        35.60  \n",
       "33170          NaN  \n",
       "33171          NaN  \n",
       "33172          NaN  \n",
       "33173          NaN  \n",
       "33174        46.35  \n",
       "33175        48.85  \n",
       "33176          NaN  \n",
       "33177          NaN  \n",
       "33178          NaN  \n",
       "33179          NaN  \n",
       "33180          NaN  \n",
       "33181          NaN  \n",
       "33182          NaN  \n",
       "\n",
       "[33183 rows x 8 columns]>"
      ]
     },
     "execution_count": 6,
     "metadata": {},
     "output_type": "execute_result"
    }
   ],
   "source": [
    "df.dropna"
   ]
  },
  {
   "cell_type": "markdown",
   "metadata": {},
   "source": [
    "#### First we want to define a function with which we can test the means of a feature set of two samples. \n",
    "\n",
    "In the next cell you'll see the annotations of the Python function that explains what this function does and its arguments and returned value. This type of annotation is called **docstring** which is a convention used among Python developers. The docstring convention allows developers to write consistent tech documentations for their codes so that others can read. It also allows some websites to automatically parse the docstrings and display user-friendly documentations.\n",
    "\n",
    "Follow the specifications of the docstring and complete the function."
   ]
  },
  {
   "cell_type": "code",
   "execution_count": null,
   "metadata": {},
   "outputs": [],
   "source": [
    "def t_test_features(s1, s2, features=['HP', 'Attack', 'Defense', 'Sp. Atk', 'Sp. Def', 'Speed', 'Total']):\n",
    "    \"\"\"Test means of a feature set of two samples\n",
    "    \n",
    "    Args:\n",
    "        s1 (dataframe): sample 1\n",
    "        s2 (dataframe): sample 2\n",
    "        features (list): an array of features to test\n",
    "    \n",
    "    Returns:\n",
    "        dict: a dictionary of t-test scores for each feature where the feature name is the key and the p-value is the value\n",
    "    \"\"\"\n",
    "    results = {}\n",
    "\n",
    "    # Your code here\n",
    "    \n",
    "    return results"
   ]
  },
  {
   "cell_type": "markdown",
   "metadata": {},
   "source": [
    "#### Using the `t_test_features` function, conduct t-test for Lengendary vs non-Legendary pokemons.\n",
    "\n",
    "*Hint: your output should look like below:*\n",
    "\n",
    "```\n",
    "{'HP': 1.0026911708035284e-13,\n",
    " 'Attack': 2.520372449236646e-16,\n",
    " 'Defense': 4.8269984949193316e-11,\n",
    " 'Sp. Atk': 1.5514614112239812e-21,\n",
    " 'Sp. Def': 2.2949327864052826e-15,\n",
    " 'Speed': 1.049016311882451e-18,\n",
    " 'Total': 9.357954335957446e-47}\n",
    " ```"
   ]
  },
  {
   "cell_type": "code",
   "execution_count": null,
   "metadata": {},
   "outputs": [],
   "source": [
    "# Your code here\n"
   ]
  },
  {
   "cell_type": "markdown",
   "metadata": {},
   "source": [
    "#### From the test results above, what conclusion can you make? Do Legendary and non-Legendary pokemons have significantly different stats on each feature?"
   ]
  },
  {
   "cell_type": "code",
   "execution_count": null,
   "metadata": {},
   "outputs": [],
   "source": [
    "# Your comment here"
   ]
  },
  {
   "cell_type": "markdown",
   "metadata": {},
   "source": [
    "#### Next, conduct t-test for Generation 1 and Generation 2 pokemons."
   ]
  },
  {
   "cell_type": "code",
   "execution_count": null,
   "metadata": {},
   "outputs": [],
   "source": [
    "# Your code here\n"
   ]
  },
  {
   "cell_type": "markdown",
   "metadata": {},
   "source": [
    "#### What conclusions can you make?"
   ]
  },
  {
   "cell_type": "code",
   "execution_count": null,
   "metadata": {},
   "outputs": [],
   "source": [
    "# Your comment here"
   ]
  },
  {
   "cell_type": "markdown",
   "metadata": {},
   "source": [
    "#### Compare pokemons who have single type vs those having two types."
   ]
  },
  {
   "cell_type": "code",
   "execution_count": null,
   "metadata": {},
   "outputs": [],
   "source": [
    "# Your code here\n"
   ]
  },
  {
   "cell_type": "markdown",
   "metadata": {},
   "source": [
    "#### What conclusions can you make?"
   ]
  },
  {
   "cell_type": "code",
   "execution_count": null,
   "metadata": {},
   "outputs": [],
   "source": [
    "# Your comment here"
   ]
  },
  {
   "cell_type": "markdown",
   "metadata": {},
   "source": [
    "#### Now, we want to compare whether there are significant differences of `Attack` vs `Defense`  and  `Sp. Atk` vs `Sp. Def` of all pokemons. Please write your code below.\n",
    "\n",
    "*Hint: are you comparing different populations or the same population?*"
   ]
  },
  {
   "cell_type": "code",
   "execution_count": null,
   "metadata": {},
   "outputs": [],
   "source": [
    "# Your code here\n"
   ]
  },
  {
   "cell_type": "markdown",
   "metadata": {},
   "source": [
    "#### What conclusions can you make?"
   ]
  },
  {
   "cell_type": "code",
   "execution_count": null,
   "metadata": {},
   "outputs": [],
   "source": [
    "# Your comment here"
   ]
  }
 ],
 "metadata": {
  "kernelspec": {
   "display_name": "Python 3",
   "language": "python",
   "name": "python3"
  },
  "language_info": {
   "codemirror_mode": {
    "name": "ipython",
    "version": 3
   },
   "file_extension": ".py",
   "mimetype": "text/x-python",
   "name": "python",
   "nbconvert_exporter": "python",
   "pygments_lexer": "ipython3",
   "version": "3.7.3"
  }
 },
 "nbformat": 4,
 "nbformat_minor": 2
}
