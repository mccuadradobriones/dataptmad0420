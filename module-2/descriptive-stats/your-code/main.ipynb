{
 "cells": [
  {
   "cell_type": "markdown",
   "metadata": {},
   "source": [
    "# Understanding Descriptive Statistics\n",
    "\n",
    "Import the necessary libraries here:"
   ]
  },
  {
   "cell_type": "code",
   "execution_count": 1,
   "metadata": {},
   "outputs": [],
   "source": [
    "# Libraries\n",
    "import pandas as pd\n",
    "import numpy as np\n",
    "import random\n",
    "import matplotlib.pyplot as plt\n",
    "from scipy.stats import t\n",
    "from scipy.stats import norm\n",
    "from scipy.stats import ttest_1samp"
   ]
  },
  {
   "cell_type": "markdown",
   "metadata": {},
   "source": [
    "## Challenge 1\n",
    "#### 1.- Define a function that simulates rolling a dice 10 times. Save the information in a dataframe.\n",
    "**Hint**: you can use the *choices* function from module *random* to help you with the simulation."
   ]
  },
  {
   "cell_type": "code",
   "execution_count": 2,
   "metadata": {},
   "outputs": [],
   "source": [
    "# your code here\n",
    "x=range(0,7)\n",
    "lista=[]\n",
    "def rolling(y):\n",
    "    rolling_times=input(\"\")\n",
    "    for i in range(0,int(rolling_times)):\n",
    "        acumulador=+1\n",
    "        if acumulador==rolling_times:\n",
    "            break\n",
    "        else:\n",
    "            lista.append(x[random.randint(0,6)])\n",
    "    return pd.DataFrame(lista, columns=['dice']) "
   ]
  },
  {
   "cell_type": "code",
   "execution_count": 3,
   "metadata": {},
   "outputs": [
    {
     "name": "stdout",
     "output_type": "stream",
     "text": [
      "10\n"
     ]
    }
   ],
   "source": [
    "dice=(rolling(x))"
   ]
  },
  {
   "cell_type": "markdown",
   "metadata": {},
   "source": [
    "#### 2.- Plot the results sorted by value."
   ]
  },
  {
   "cell_type": "code",
   "execution_count": 4,
   "metadata": {},
   "outputs": [
    {
     "data": {
      "text/html": [
       "<div>\n",
       "<style scoped>\n",
       "    .dataframe tbody tr th:only-of-type {\n",
       "        vertical-align: middle;\n",
       "    }\n",
       "\n",
       "    .dataframe tbody tr th {\n",
       "        vertical-align: top;\n",
       "    }\n",
       "\n",
       "    .dataframe thead th {\n",
       "        text-align: right;\n",
       "    }\n",
       "</style>\n",
       "<table border=\"1\" class=\"dataframe\">\n",
       "  <thead>\n",
       "    <tr style=\"text-align: right;\">\n",
       "      <th></th>\n",
       "      <th>dice</th>\n",
       "    </tr>\n",
       "  </thead>\n",
       "  <tbody>\n",
       "    <tr>\n",
       "      <th>9</th>\n",
       "      <td>0</td>\n",
       "    </tr>\n",
       "    <tr>\n",
       "      <th>5</th>\n",
       "      <td>1</td>\n",
       "    </tr>\n",
       "    <tr>\n",
       "      <th>3</th>\n",
       "      <td>2</td>\n",
       "    </tr>\n",
       "    <tr>\n",
       "      <th>0</th>\n",
       "      <td>3</td>\n",
       "    </tr>\n",
       "    <tr>\n",
       "      <th>4</th>\n",
       "      <td>3</td>\n",
       "    </tr>\n",
       "    <tr>\n",
       "      <th>6</th>\n",
       "      <td>5</td>\n",
       "    </tr>\n",
       "    <tr>\n",
       "      <th>7</th>\n",
       "      <td>5</td>\n",
       "    </tr>\n",
       "    <tr>\n",
       "      <th>1</th>\n",
       "      <td>6</td>\n",
       "    </tr>\n",
       "    <tr>\n",
       "      <th>2</th>\n",
       "      <td>6</td>\n",
       "    </tr>\n",
       "    <tr>\n",
       "      <th>8</th>\n",
       "      <td>6</td>\n",
       "    </tr>\n",
       "  </tbody>\n",
       "</table>\n",
       "</div>"
      ],
      "text/plain": [
       "   dice\n",
       "9     0\n",
       "5     1\n",
       "3     2\n",
       "0     3\n",
       "4     3\n",
       "6     5\n",
       "7     5\n",
       "1     6\n",
       "2     6\n",
       "8     6"
      ]
     },
     "execution_count": 4,
     "metadata": {},
     "output_type": "execute_result"
    }
   ],
   "source": [
    "# your code here\n",
    "dice=dice.sort_values(by='dice')\n",
    "dice"
   ]
  },
  {
   "cell_type": "markdown",
   "metadata": {},
   "source": [
    "#### 3.- Calculate the frequency distribution and plot it. What is the relation between this plot and the plot above? Describe it with words."
   ]
  },
  {
   "cell_type": "code",
   "execution_count": 5,
   "metadata": {},
   "outputs": [],
   "source": [
    "# your code here\n",
    "def feq_dis(x):\n",
    "    value_counts=x['dice'].value_counts()\n",
    "    x=pd.DataFrame(value_counts)\n",
    "    return x.to_dict()['dice']"
   ]
  },
  {
   "cell_type": "code",
   "execution_count": 6,
   "metadata": {},
   "outputs": [
    {
     "name": "stdout",
     "output_type": "stream",
     "text": [
      "{6: 3, 5: 2, 3: 2, 2: 1, 1: 1, 0: 1}\n"
     ]
    },
    {
     "data": {
      "text/plain": [
       "array([[<matplotlib.axes._subplots.AxesSubplot object at 0x7f54fb13d690>]],\n",
       "      dtype=object)"
      ]
     },
     "execution_count": 6,
     "metadata": {},
     "output_type": "execute_result"
    },
    {
     "data": {
      "image/png": "[encoded data removed]",
      "text/plain": [
       "<Figure size 432x288 with 1 Axes>"
      ]
     },
     "metadata": {
      "needs_background": "light"
     },
     "output_type": "display_data"
    }
   ],
   "source": [
    "print(feq_dis(dice))\n",
    "dice.hist()"
   ]
  },
  {
   "cell_type": "markdown",
   "metadata": {},
   "source": [
    "### Answer \n",
    "\n",
    "Both represent the same data and are sorted by value. The main differences are that the histogram is more visual and arranges values accumulated by frequency saving the time of counting the repeated values"
   ]
  },
  {
   "cell_type": "markdown",
   "metadata": {},
   "source": [
    "## Challenge 2\n",
    "Now, using the dice results obtained in *challenge 1*, your are going to define some functions that will help you calculate the mean of your data in two different ways, the median and the four quartiles. \n",
    "\n",
    "#### 1.- Define a function that computes the mean by summing all the observations and dividing by the total number of observations. You are not allowed to use any methods or functions that directly calculate the mean value. "
   ]
  },
  {
   "cell_type": "code",
   "execution_count": 8,
   "metadata": {},
   "outputs": [],
   "source": [
    "# your code here\n",
    "lista=[y for i in dice.values for y in i]\n",
    "def mean1(x):\n",
    "    z=0\n",
    "    for i in x:\n",
    "        z=z+i\n",
    "    return z/len(dice)"
   ]
  },
  {
   "cell_type": "code",
   "execution_count": 9,
   "metadata": {},
   "outputs": [
    {
     "name": "stdout",
     "output_type": "stream",
     "text": [
      "3.7\n"
     ]
    }
   ],
   "source": [
    "print(mean1(lista))"
   ]
  },
  {
   "cell_type": "markdown",
   "metadata": {},
   "source": [
    "#### 2.- First, calculate the frequency distribution. Then, calculate the mean using the values of the frequency distribution you've just computed. You are not allowed to use any methods or functions that directly calculate the mean value. "
   ]
  },
  {
   "cell_type": "code",
   "execution_count": 10,
   "metadata": {},
   "outputs": [],
   "source": [
    "# your code here\n",
    "def feq_dis(x):\n",
    "    value_counts=x['dice'].value_counts()\n",
    "    x=pd.DataFrame(value_counts)\n",
    "    return x.to_dict()['dice']\n",
    "\n",
    "def mean2(x):\n",
    "    x=feq_dis(x)\n",
    "    lista=[((list(x.keys())[i])*(list(x.values())[i])) for i in range(0,len(x))]\n",
    "    return sum(lista)/len(dice)                        "
   ]
  },
  {
   "cell_type": "code",
   "execution_count": 11,
   "metadata": {},
   "outputs": [
    {
     "name": "stdout",
     "output_type": "stream",
     "text": [
      "The frequency distribution is: {6: 3, 5: 2, 3: 2, 2: 1, 1: 1, 0: 1} being the keys of the dictionay the values and the values the Nº of times it is repeated in the df\n",
      "The mean is: 3.7\n"
     ]
    }
   ],
   "source": [
    "print('The frequency distribution is:',(feq_dis(dice)),'being the keys of the dictionay the values and the values the Nº of times it is repeated in the df')\n",
    "print('The mean is:', mean2(dice))"
   ]
  },
  {
   "cell_type": "markdown",
   "metadata": {},
   "source": [
    "#### 3.- Define a function to calculate the median. You are not allowed to use any methods or functions that directly calculate the median value. \n",
    "**Hint**: you might need to define two computation cases depending on the number of observations used to calculate the median."
   ]
  },
  {
   "cell_type": "code",
   "execution_count": 12,
   "metadata": {},
   "outputs": [],
   "source": [
    "lista=[y for i in dice.values for y in i]"
   ]
  },
  {
   "cell_type": "code",
   "execution_count": 13,
   "metadata": {},
   "outputs": [],
   "source": [
    "# your code here\n",
    "def median1(x):\n",
    "    if len(x)%2==0:\n",
    "        return (x[(len(x)//2)] + x[(len(x)//2)-1])/2\n",
    "    else:\n",
    "        return x[(len(x)//2)]"
   ]
  },
  {
   "cell_type": "code",
   "execution_count": 14,
   "metadata": {},
   "outputs": [
    {
     "name": "stdout",
     "output_type": "stream",
     "text": [
      "4.0\n"
     ]
    }
   ],
   "source": [
    "print(median1(lista))"
   ]
  },
  {
   "cell_type": "markdown",
   "metadata": {},
   "source": [
    "#### 4.- Define a function to calculate the four quartiles. You can use the function you defined above to compute the median but you are not allowed to use any methods or functions that directly calculate the quartiles. "
   ]
  },
  {
   "cell_type": "code",
   "execution_count": 46,
   "metadata": {},
   "outputs": [],
   "source": [
    "# your code here\n",
    "def Q1(x):\n",
    "    return median1(x[0:(len(x)//2)+1])\n",
    "    \n",
    "def Q3(x):\n",
    "    return median1(x[(len(x)//2):-1])"
   ]
  },
  {
   "cell_type": "code",
   "execution_count": 47,
   "metadata": {},
   "outputs": [
    {
     "name": "stdout",
     "output_type": "stream",
     "text": [
      "Quantile 1 is all values below: 2.5\n",
      "Quantile 2 is all values between: 2.5 and 4.0\n",
      "Quantile 3 is all values between: 4.0 and 5.5\n",
      "Quantile 4 is all values above: 5.5\n"
     ]
    }
   ],
   "source": [
    "print('Quantile 1 is all values below:',Q1(lista))\n",
    "print('Quantile 2 is all values between:',Q1(lista), 'and', median1(lista))\n",
    "print('Quantile 3 is all values between:',median1(lista), 'and', Q3(lista))\n",
    "print('Quantile 4 is all values above:', Q3(lista))"
   ]
  },
  {
   "cell_type": "markdown",
   "metadata": {},
   "source": [
    "## Challenge 3\n",
    "Read the csv `roll_the_dice_hundred.csv` from the `data` folder.\n",
    "#### 1.- Sort the values and plot them. What do you see?"
   ]
  },
  {
   "cell_type": "code",
   "execution_count": 17,
   "metadata": {},
   "outputs": [],
   "source": [
    "# your code here\n",
    "dice=pd.read_csv('../data/roll_the_dice_hundred.csv')"
   ]
  },
  {
   "cell_type": "code",
   "execution_count": 18,
   "metadata": {},
   "outputs": [
    {
     "data": {
      "text/html": [
       "<div>\n",
       "<style scoped>\n",
       "    .dataframe tbody tr th:only-of-type {\n",
       "        vertical-align: middle;\n",
       "    }\n",
       "\n",
       "    .dataframe tbody tr th {\n",
       "        vertical-align: top;\n",
       "    }\n",
       "\n",
       "    .dataframe thead th {\n",
       "        text-align: right;\n",
       "    }\n",
       "</style>\n",
       "<table border=\"1\" class=\"dataframe\">\n",
       "  <thead>\n",
       "    <tr style=\"text-align: right;\">\n",
       "      <th></th>\n",
       "      <th>Unnamed: 0</th>\n",
       "      <th>roll</th>\n",
       "      <th>value</th>\n",
       "    </tr>\n",
       "  </thead>\n",
       "  <tbody>\n",
       "    <tr>\n",
       "      <th>0</th>\n",
       "      <td>0</td>\n",
       "      <td>0</td>\n",
       "      <td>1</td>\n",
       "    </tr>\n",
       "    <tr>\n",
       "      <th>47</th>\n",
       "      <td>47</td>\n",
       "      <td>47</td>\n",
       "      <td>1</td>\n",
       "    </tr>\n",
       "    <tr>\n",
       "      <th>56</th>\n",
       "      <td>56</td>\n",
       "      <td>56</td>\n",
       "      <td>1</td>\n",
       "    </tr>\n",
       "    <tr>\n",
       "      <th>9</th>\n",
       "      <td>9</td>\n",
       "      <td>9</td>\n",
       "      <td>1</td>\n",
       "    </tr>\n",
       "    <tr>\n",
       "      <th>73</th>\n",
       "      <td>73</td>\n",
       "      <td>73</td>\n",
       "      <td>1</td>\n",
       "    </tr>\n",
       "    <tr>\n",
       "      <th>...</th>\n",
       "      <td>...</td>\n",
       "      <td>...</td>\n",
       "      <td>...</td>\n",
       "    </tr>\n",
       "    <tr>\n",
       "      <th>17</th>\n",
       "      <td>17</td>\n",
       "      <td>17</td>\n",
       "      <td>6</td>\n",
       "    </tr>\n",
       "    <tr>\n",
       "      <th>11</th>\n",
       "      <td>11</td>\n",
       "      <td>11</td>\n",
       "      <td>6</td>\n",
       "    </tr>\n",
       "    <tr>\n",
       "      <th>24</th>\n",
       "      <td>24</td>\n",
       "      <td>24</td>\n",
       "      <td>6</td>\n",
       "    </tr>\n",
       "    <tr>\n",
       "      <th>21</th>\n",
       "      <td>21</td>\n",
       "      <td>21</td>\n",
       "      <td>6</td>\n",
       "    </tr>\n",
       "    <tr>\n",
       "      <th>99</th>\n",
       "      <td>99</td>\n",
       "      <td>99</td>\n",
       "      <td>6</td>\n",
       "    </tr>\n",
       "  </tbody>\n",
       "</table>\n",
       "<p>100 rows × 3 columns</p>\n",
       "</div>"
      ],
      "text/plain": [
       "    Unnamed: 0  roll  value\n",
       "0            0     0      1\n",
       "47          47    47      1\n",
       "56          56    56      1\n",
       "9            9     9      1\n",
       "73          73    73      1\n",
       "..         ...   ...    ...\n",
       "17          17    17      6\n",
       "11          11    11      6\n",
       "24          24    24      6\n",
       "21          21    21      6\n",
       "99          99    99      6\n",
       "\n",
       "[100 rows x 3 columns]"
      ]
     },
     "execution_count": 18,
     "metadata": {},
     "output_type": "execute_result"
    }
   ],
   "source": [
    "dice=dice.sort_values(by='value')\n",
    "dice"
   ]
  },
  {
   "cell_type": "markdown",
   "metadata": {},
   "source": [
    "### Answer\n",
    "\n",
    "Even though, this dataset is more balanced, values are not evenly distributed throughout the dataset as the higher values, be it 4,5 and 6 show a higher frequency"
   ]
  },
  {
   "cell_type": "markdown",
   "metadata": {},
   "source": [
    "#### 2.- Using the functions you defined in *challenge 2*, calculate the mean value of the hundred dice rolls."
   ]
  },
  {
   "cell_type": "code",
   "execution_count": 20,
   "metadata": {},
   "outputs": [
    {
     "data": {
      "text/plain": [
       "3.74"
      ]
     },
     "execution_count": 20,
     "metadata": {},
     "output_type": "execute_result"
    }
   ],
   "source": [
    "# your code here\n",
    "mean1(dice['value'])"
   ]
  },
  {
   "cell_type": "markdown",
   "metadata": {},
   "source": [
    "#### 3.- Now, calculate the frequency distribution.\n"
   ]
  },
  {
   "cell_type": "code",
   "execution_count": 21,
   "metadata": {},
   "outputs": [
    {
     "data": {
      "text/plain": [
       "{6: 23, 4: 22, 2: 17, 3: 14, 5: 12, 1: 12}"
      ]
     },
     "execution_count": 21,
     "metadata": {},
     "output_type": "execute_result"
    }
   ],
   "source": [
    "# your code here\n",
    "dice.rename(columns={'value':'dice'},inplace=True)\n",
    "mydict=feq_dis(dice)\n",
    "mydict"
   ]
  },
  {
   "cell_type": "markdown",
   "metadata": {},
   "source": [
    "#### 4.- Plot the histogram. What do you see (shape, values...) ? How can you connect the mean value to the histogram? "
   ]
  },
  {
   "cell_type": "code",
   "execution_count": 22,
   "metadata": {},
   "outputs": [
    {
     "data": {
      "text/plain": [
       "<matplotlib.axes._subplots.AxesSubplot at 0x7f54fa8b8050>"
      ]
     },
     "execution_count": 22,
     "metadata": {},
     "output_type": "execute_result"
    },
    {
     "data": {
      "image/png": "[encoded data removed]",
      "text/plain": [
       "<Figure size 432x288 with 1 Axes>"
      ]
     },
     "metadata": {
      "needs_background": "light"
     },
     "output_type": "display_data"
    }
   ],
   "source": [
    "# your code here\n",
    "dice['dice'].hist()"
   ]
  },
  {
   "cell_type": "markdown",
   "metadata": {},
   "source": [
    "### Asnwer \n",
    "\n",
    "The values are slightly concentrated in >4, which is reflected in the mean, who takes a value greater than the median"
   ]
  },
  {
   "cell_type": "markdown",
   "metadata": {},
   "source": [
    "#### 5.- Read the `roll_the_dice_thousand.csv` from the `data` folder. Plot the frequency distribution as you did before. Has anything changed? Why do you think it changed?"
   ]
  },
  {
   "cell_type": "code",
   "execution_count": 24,
   "metadata": {},
   "outputs": [
    {
     "data": {
      "text/plain": [
       "<matplotlib.axes._subplots.AxesSubplot at 0x7f54fa846490>"
      ]
     },
     "execution_count": 24,
     "metadata": {},
     "output_type": "execute_result"
    },
    {
     "data": {
      "image/png": "[encoded data removed]",
      "text/plain": [
       "<Figure size 432x288 with 1 Axes>"
      ]
     },
     "metadata": {
      "needs_background": "light"
     },
     "output_type": "display_data"
    }
   ],
   "source": [
    "# your code here\n",
    "dice=pd.read_csv('../data/roll_the_dice_thousand.csv')\n",
    "dice['value'].hist()"
   ]
  },
  {
   "cell_type": "code",
   "execution_count": 25,
   "metadata": {},
   "outputs": [
    {
     "data": {
      "text/plain": [
       "3.447"
      ]
     },
     "execution_count": 25,
     "metadata": {},
     "output_type": "execute_result"
    }
   ],
   "source": [
    "mean1(dice['value'])"
   ]
  },
  {
   "cell_type": "markdown",
   "metadata": {},
   "source": [
    "### Answer\n",
    "\n",
    "This is a rather balanced and symmetric dataframe as we see in the plot. Hence, it is not suprising that the mean takes a value almost equal to the median"
   ]
  },
  {
   "cell_type": "markdown",
   "metadata": {},
   "source": [
    "## Challenge 4\n",
    "In the `data` folder of this repository you will find three different files with the prefix `ages_population`. These files contain information about a poll answered by a thousand people regarding their age. Each file corresponds to the poll answers in different neighbourhoods of Barcelona.\n",
    "\n",
    "#### 1.- Read the file `ages_population.csv`. Calculate the frequency distribution and plot it as we did during the lesson. Try to guess the range in which the mean and the standard deviation will be by looking at the plot. "
   ]
  },
  {
   "cell_type": "code",
   "execution_count": 27,
   "metadata": {},
   "outputs": [
    {
     "name": "stdout",
     "output_type": "stream",
     "text": [
      "{39.0: 45, 41.0: 36, 30.0: 34, 35.0: 33, 43.0: 32, 42.0: 32, 36.0: 31, 38.0: 30, 32.0: 30, 37.0: 30, 34.0: 29, 45.0: 29, 40.0: 27, 29.0: 26, 27.0: 25, 31.0: 24, 46.0: 23, 44.0: 23, 26.0: 23, 33.0: 22, 28.0: 20, 25.0: 19, 49.0: 19, 48.0: 19, 24.0: 18, 47.0: 17, 23.0: 17, 22.0: 16, 50.0: 16, 56.0: 15, 21.0: 14, 52.0: 14, 20.0: 13, 54.0: 13, 55.0: 13, 53.0: 12, 19.0: 11, 12.0: 11, 14.0: 10, 17.0: 10, 51.0: 9, 15.0: 8, 16.0: 8, 59.0: 8, 18.0: 7, 58.0: 7, 63.0: 7, 57.0: 7, 13.0: 6, 8.0: 5, 60.0: 4, 67.0: 4, 62.0: 4, 68.0: 3, 66.0: 3, 11.0: 3, 10.0: 3, 61.0: 2, 9.0: 2, 5.0: 2, 6.0: 2, 65.0: 2, 2.0: 2, 1.0: 2, 64.0: 2, 4.0: 1, 82.0: 1, 70.0: 1, 71.0: 1, 7.0: 1, 69.0: 1, 73.0: 1}\n"
     ]
    },
    {
     "data": {
      "text/plain": [
       "array([[<matplotlib.axes._subplots.AxesSubplot object at 0x7f54fa767690>]],\n",
       "      dtype=object)"
      ]
     },
     "execution_count": 27,
     "metadata": {},
     "output_type": "execute_result"
    },
    {
     "data": {
      "image/png": "[encoded data removed]",
      "text/plain": [
       "<Figure size 432x288 with 1 Axes>"
      ]
     },
     "metadata": {
      "needs_background": "light"
     },
     "output_type": "display_data"
    }
   ],
   "source": [
    "# your code here\n",
    "age1=pd.read_csv('../data/ages_population.csv')\n",
    "age1.rename(columns={'observation':'dice'},inplace=True)\n",
    "print(feq_dis(age1))\n",
    "age1.hist()"
   ]
  },
  {
   "cell_type": "markdown",
   "metadata": {},
   "source": [
    "### Answer\n",
    "\n",
    "Looking at the plot I would assert that the mean would fall between 30 and 40 as it looks like a very symmetric dataframe and the mentioned range would be the center. For the standard deviation, I would say that it should be between 15 and 20 backing this statement with the same argument"
   ]
  },
  {
   "cell_type": "markdown",
   "metadata": {},
   "source": [
    "#### 2.- Calculate the exact mean and standard deviation and compare them with your guesses. Do they fall inside the ranges you guessed?"
   ]
  },
  {
   "cell_type": "code",
   "execution_count": 29,
   "metadata": {},
   "outputs": [
    {
     "name": "stdout",
     "output_type": "stream",
     "text": [
      "The mean equals: dice    36.56\n",
      "dtype: float64 which is not deviated from my guess\n",
      "The standard deviation equals: dice    12.81009\n",
      "dtype: float64 which is not deviated either from my guess\n"
     ]
    }
   ],
   "source": [
    "# your code here\n",
    "print('The mean equals:', np.mean(age1), 'which is not deviated from my guess')\n",
    "print('The standard deviation equals:', np.std(age1), 'which is not deviated either from my guess')"
   ]
  },
  {
   "cell_type": "markdown",
   "metadata": {},
   "source": [
    "### Answer \n",
    "\n",
    "The result do not surprise me"
   ]
  },
  {
   "cell_type": "markdown",
   "metadata": {},
   "source": [
    "#### 3.- Now read the file `ages_population2.csv` . Calculate the frequency distribution and plot it."
   ]
  },
  {
   "cell_type": "code",
   "execution_count": 31,
   "metadata": {},
   "outputs": [
    {
     "name": "stdout",
     "output_type": "stream",
     "text": [
      "{28.0: 139, 27.0: 125, 26.0: 120, 29.0: 115, 25.0: 98, 30.0: 90, 24.0: 78, 31.0: 61, 23.0: 41, 22.0: 35, 32.0: 31, 33.0: 22, 21.0: 17, 20.0: 13, 34.0: 7, 35.0: 3, 19.0: 3, 36.0: 2}\n"
     ]
    },
    {
     "data": {
      "text/plain": [
       "array([[<matplotlib.axes._subplots.AxesSubplot object at 0x7f54fa701750>]],\n",
       "      dtype=object)"
      ]
     },
     "execution_count": 31,
     "metadata": {},
     "output_type": "execute_result"
    },
    {
     "data": {
      "image/png": "[encoded data removed]",
      "text/plain": [
       "<Figure size 432x288 with 1 Axes>"
      ]
     },
     "metadata": {
      "needs_background": "light"
     },
     "output_type": "display_data"
    }
   ],
   "source": [
    "# your code here\n",
    "age2=pd.read_csv('../data/ages_population2.csv')\n",
    "age2.rename(columns={'observation':'dice'},inplace=True)\n",
    "print(feq_dis(age2))\n",
    "age2.hist()"
   ]
  },
  {
   "cell_type": "markdown",
   "metadata": {},
   "source": [
    "####  4.- What do you see? Is there any difference with the frequency distribution in step 1?"
   ]
  },
  {
   "cell_type": "markdown",
   "metadata": {},
   "source": [
    "### Answer \n",
    "\n",
    "In this case, the histogram looks less symmetric and therefore, it is harded to individualized its mean and standard deviation in just a first glimpse"
   ]
  },
  {
   "cell_type": "markdown",
   "metadata": {},
   "source": [
    "#### 5.- Calculate the mean and standard deviation. Compare the results with the mean and standard deviation in step 2. What do you think?"
   ]
  },
  {
   "cell_type": "code",
   "execution_count": 33,
   "metadata": {},
   "outputs": [
    {
     "name": "stdout",
     "output_type": "stream",
     "text": [
      "dice    27.155\n",
      "dtype: float64\n",
      "dice    2.968329\n",
      "dtype: float64\n"
     ]
    }
   ],
   "source": [
    "# your code here\n",
    "print(np.mean(age2))\n",
    "print(np.std(age2))"
   ]
  },
  {
   "cell_type": "markdown",
   "metadata": {},
   "source": [
    "### Answer \n",
    "\n",
    "Apparently,the mean is very close to the median - 27, which is a property more common in symmetric distributions. I was expecting a value that would have fallen further to the median. What strike me the most though is the standard deviation value, which I expected higher.\n"
   ]
  },
  {
   "cell_type": "markdown",
   "metadata": {},
   "source": [
    "## Challenge 5\n",
    "Now is the turn of `ages_population3.csv`.\n",
    "\n",
    "#### 1.- Read the file `ages_population3.csv`. Calculate the frequency distribution and plot it."
   ]
  },
  {
   "cell_type": "code",
   "execution_count": 60,
   "metadata": {},
   "outputs": [
    {
     "name": "stdout",
     "output_type": "stream",
     "text": [
      "{32.0: 37, 35.0: 31, 37.0: 31, 39.0: 29, 36.0: 26, 41.0: 25, 38.0: 25, 48.0: 25, 29.0: 25, 30.0: 24, 45.0: 24, 46.0: 22, 43.0: 22, 67.0: 22, 50.0: 21, 40.0: 21, 31.0: 21, 34.0: 20, 70.0: 19, 27.0: 19, 66.0: 19, 24.0: 19, 49.0: 18, 28.0: 18, 25.0: 17, 33.0: 17, 68.0: 17, 44.0: 17, 69.0: 17, 52.0: 17, 47.0: 15, 65.0: 15, 26.0: 15, 51.0: 14, 42.0: 14, 21.0: 14, 53.0: 14, 55.0: 13, 19.0: 12, 63.0: 12, 64.0: 12, 23.0: 11, 22.0: 11, 71.0: 11, 20.0: 11, 56.0: 10, 17.0: 10, 54.0: 9, 16.0: 9, 18.0: 9, 57.0: 8, 59.0: 8, 15.0: 8, 72.0: 8, 58.0: 6, 73.0: 6, 61.0: 6, 74.0: 6, 60.0: 6, 14.0: 5, 12.0: 4, 62.0: 3, 11.0: 2, 77.0: 2, 4.0: 2, 13.0: 2, 75.0: 2, 10.0: 2, 2.0: 2, 8.0: 1, 76.0: 1, 9.0: 1, 1.0: 1, 5.0: 1, 7.0: 1}\n"
     ]
    },
    {
     "data": {
      "text/plain": [
       "array([[<matplotlib.axes._subplots.AxesSubplot object at 0x7f54fa1cd6d0>]],\n",
       "      dtype=object)"
      ]
     },
     "execution_count": 60,
     "metadata": {},
     "output_type": "execute_result"
    },
    {
     "data": {
      "image/png": "[encoded data removed]",
      "text/plain": [
       "<Figure size 432x288 with 1 Axes>"
      ]
     },
     "metadata": {
      "needs_background": "light"
     },
     "output_type": "display_data"
    }
   ],
   "source": [
    "# your code here\n",
    "age3=pd.read_csv('../data/ages_population3.csv')\n",
    "age3.rename(columns={'observation':'dice'},inplace=True)\n",
    "print(feq_dis(age3))\n",
    "age3.hist()"
   ]
  },
  {
   "cell_type": "markdown",
   "metadata": {},
   "source": [
    "#### 2.- Calculate the mean and standard deviation. Compare the results with the plot in step 1. What is happening?"
   ]
  },
  {
   "cell_type": "code",
   "execution_count": 61,
   "metadata": {},
   "outputs": [
    {
     "name": "stdout",
     "output_type": "stream",
     "text": [
      "dice    41.989\n",
      "dtype: float64\n",
      "dice    16.136632\n",
      "dtype: float64\n"
     ]
    }
   ],
   "source": [
    "# your code here\n",
    "print(np.mean(age3))\n",
    "print(np.std(age3))"
   ]
  },
  {
   "cell_type": "markdown",
   "metadata": {},
   "source": [
    "### Answer \n",
    "\n",
    "Even falling both distributions in the same range - 0 to 80, as the present one is less symmetric, it has a mean further to its median slighly skewed to the right. Moreover, the standard deviation is wider, as values are more variable within than range"
   ]
  },
  {
   "cell_type": "markdown",
   "metadata": {},
   "source": [
    "#### 3.- Calculate the four quartiles. Use the results to explain your reasoning for question in step 2. How much of a difference is there between the median and the mean?"
   ]
  },
  {
   "cell_type": "code",
   "execution_count": 72,
   "metadata": {},
   "outputs": [
    {
     "name": "stdout",
     "output_type": "stream",
     "text": [
      "Quantile 1 is all values below: 30.0\n",
      "Quantile 2 is all values between: 30.0 and 40.0\n",
      "Quantile 3 is all values between: 40.0 and 53.0\n",
      "Quantile 4 is all values above: 53.0\n",
      "Difference between the median and the mean: -1.9889999999999972\n"
     ]
    }
   ],
   "source": [
    "# your code here\n",
    "age3=age3.sort_values(by='dice')\n",
    "x=list(age3['dice'])\n",
    "print('Quantile 1 is all values below:',Q1(x))\n",
    "print('Quantile 2 is all values between:',Q1(x), 'and', median1(x))\n",
    "print('Quantile 3 is all values between:',median1(x), 'and', Q3(x))\n",
    "print('Quantile 4 is all values above:', Q3(x))\n",
    "print('Difference between the median and the mean:',median1(x)-mean1(x))"
   ]
  },
  {
   "cell_type": "markdown",
   "metadata": {},
   "source": [
    "### Answer\n",
    "\n",
    "The central value - median - is below the mean, therefore, this data confirms the fact the dataset values are concentrated to the left and that the dataset has a positive skewness. Also, it is interesting that Q3-Q2 > Q2-Q1, 13>10, which confirms the skewness. Moreover, it is remarkable that being the range exactly (1 to 77) the median is 40, having the half of the values concentrate in 39 lower values and the other half in 37 higher values, and being a 25% of the results concentrated in only 10 values (Q3), while in the other cases they are concentrated in 13, 24 or 30 values. \n"
   ]
  },
  {
   "cell_type": "markdown",
   "metadata": {},
   "source": [
    "#### 4.- Calculate other percentiles that might be useful to give more arguments to your reasoning."
   ]
  },
  {
   "cell_type": "code",
   "execution_count": 86,
   "metadata": {},
   "outputs": [
    {
     "name": "stdout",
     "output_type": "stream",
     "text": [
      "Percentile 10: 22.0\n",
      "Percentile 40: 36.0\n",
      "Percentile 40 - 10: 14.0\n",
      "Percentile 60: 45.0\n",
      "Percentile 90: 67.0\n",
      "Percentile 90 - 60: 22.0\n"
     ]
    }
   ],
   "source": [
    "# your code here\n",
    "print('Percentile 10:',np.percentile(x,10))\n",
    "print('Percentile 40:',np.percentile(x,40))\n",
    "print('Percentile 40 - 10:',np.percentile(x,40)-np.percentile(x,10))\n",
    "print('Percentile 60:',np.percentile(x,60))\n",
    "print('Percentile 90:',np.percentile(x,90))\n",
    "print('Percentile 90 - 60:', np.percentile(x,90)-np.percentile(x,60))"
   ]
  },
  {
   "cell_type": "markdown",
   "metadata": {},
   "source": [
    "### Answer\n",
    "\n",
    "The combination of percetiles yields a insightful conclusion, which is that there must be a sort of tail in the upper values of this dataset, as the values are distributed in a greater range with less frecuency"
   ]
  },
  {
   "cell_type": "markdown",
   "metadata": {},
   "source": [
    "## Bonus challenge\n",
    "Compare the information about the three neighbourhoods. Prepare a report about the three of them. Remember to find out which are their similarities and their differences backing your arguments in basic statistics."
   ]
  },
  {
   "cell_type": "code",
   "execution_count": 77,
   "metadata": {},
   "outputs": [
    {
     "name": "stdout",
     "output_type": "stream",
     "text": [
      "First neighbourhood             dice\n",
      "count  1000.0000\n",
      "mean     36.5600\n",
      "std      12.8165\n",
      "min       1.0000\n",
      "25%      28.0000\n",
      "50%      37.0000\n",
      "75%      45.0000\n",
      "max      82.0000\n",
      "Second neighbourhood               dice\n",
      "count  1000.000000\n",
      "mean     27.155000\n",
      "std       2.969814\n",
      "min      19.000000\n",
      "25%      25.000000\n",
      "50%      27.000000\n",
      "75%      29.000000\n",
      "max      36.000000\n",
      "Third neigbourhood               dice\n",
      "count  1000.000000\n",
      "mean     41.989000\n",
      "std      16.144706\n",
      "min       1.000000\n",
      "25%      30.000000\n",
      "50%      40.000000\n",
      "75%      53.000000\n",
      "max      77.000000\n"
     ]
    }
   ],
   "source": [
    "# your code here\n",
    "print('First neighbourhood', age1.describe())\n",
    "print('Second neighbourhood',age2.describe())\n",
    "print('Third neigbourhood',age3.describe())"
   ]
  },
  {
   "cell_type": "markdown",
   "metadata": {},
   "source": [
    "### Answer\n",
    "\n",
    "There are several things we can infer from the statistics of these dataset:\n",
    "\n",
    "- Differences:\n",
    "    - The First neighbourhood  and the Third neigbourhood seems to be family neighbourhood as there are kinds - min.agen of 1- and elderly - max.age of 82 and 77 and at least the 50% of their population is under 37 and 40 - median, respectively. The Second neighbourhood though, apparently is a young neigbourhood of students and young professionals as the min.age is 19 and the max is 36  \n",
    "    - The First neighbourhood is the one with more variability in age terms, as it has the higher standard dev. and also shows the highest range of age (82-1=81) and the most relevant quantile width (28,19,8,37) \n",
    "    - Contrariwise, the neightbourhood with the less variability is the Second one, as it is refleced in is standard dev., age range (36-19=17) and the less relevant quantile width (25,2,2,7)\n",
    "\n",
    "- Similarities\n",
    "    - The 25% of the people that lives in any of this neighbourhoods is un 30 (Q1)"
   ]
  }
 ],
 "metadata": {
  "kernelspec": {
   "display_name": "Python 3",
   "language": "python",
   "name": "python3"
  },
  "language_info": {
   "codemirror_mode": {
    "name": "ipython",
    "version": 3
   },
   "file_extension": ".py",
   "mimetype": "text/x-python",
   "name": "python",
   "nbconvert_exporter": "python",
   "pygments_lexer": "ipython3",
   "version": "3.7.6"
  }
 },
 "nbformat": 4,
 "nbformat_minor": 2
}
