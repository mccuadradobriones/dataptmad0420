{
 "cells": [
  {
   "cell_type": "markdown",
   "metadata": {},
   "source": [
    "# Confidence Intervals"
   ]
  },
  {
   "cell_type": "code",
   "execution_count": 1,
   "metadata": {},
   "outputs": [],
   "source": [
    "# Libraries\n",
    "from scipy import stats\n",
    "import numpy as np\n",
    "import math"
   ]
  },
  {
   "cell_type": "markdown",
   "metadata": {},
   "source": [
    "## Challenge 1\n",
    "We want to estimate the average size of the men of a country with a confidence level of 80%. Assuming that the standard deviation of the sizes in the population is 4, get the confidence interval with a sample of men selected randomly, whose heights are:\n",
    "\n",
    "````\n",
    "heights = [167, 167, 168, 168, 168, 169, 171, 172, 173, 175, 175, 175, 177, 182, 195]\n",
    "````\n",
    "\n",
    "**Hint**: function `stats.norm.interval` from `scipy` can help you get through this exercise. "
   ]
  },
  {
   "cell_type": "code",
   "execution_count": 2,
   "metadata": {},
   "outputs": [],
   "source": [
    "# your code here\n",
    "heights = [167, 167, 168, 168, 168, 169, 171, 172, 173, 175, 175, 175, 177, 182, 195]\n",
    "mu= np.mean(heights)\n",
    "N=len(heights)\n",
    "sigma=4\n",
    "confidence_int=0.8"
   ]
  },
  {
   "cell_type": "code",
   "execution_count": 3,
   "metadata": {},
   "outputs": [
    {
     "name": "stdout",
     "output_type": "stream",
     "text": [
      "The mean should be in this interval with a 80% confidence level: (172.14308590115726, 174.79024743217607)\n"
     ]
    }
   ],
   "source": [
    "interval=stats.norm.interval(confidence_int, loc=mu, scale=sigma/np.sqrt(N))\n",
    "print('The mean should be in this interval with a 80% confidence level:',interval)"
   ]
  },
  {
   "cell_type": "markdown",
   "metadata": {},
   "source": [
    "## Challenge 2 \n",
    "In a sample of 105 shops selected randomly from an area, we note that 27 of them have had losses in this month. Get an interval for the proportion of businesses in the area with losses to a confidence level of 80% and a confidence level of 90%.\n",
    "\n",
    "**Hint**: function `stats.norm.interval` from `scipy` can help you get through this exercise. "
   ]
  },
  {
   "cell_type": "code",
   "execution_count": 4,
   "metadata": {},
   "outputs": [
    {
     "name": "stdout",
     "output_type": "stream",
     "text": [
      "The proportion of businesses in the area with losses are in this interval with 80% confidence level: (0.20248138545542083, 0.3118043288302934)\n"
     ]
    }
   ],
   "source": [
    "# your code here\n",
    "N=105\n",
    "p=27/N\n",
    "interval=stats.norm.interval(alpha = confidence_int,    # Confidence level             \n",
    "                   loc =  p,     # Point estimate of proportion\n",
    "                   scale = math.sqrt((p*(1-p))/N))  # Scaling factor\n",
    "print('The proportion of businesses in the area with losses are in this interval with 80% confidence level:',interval)"
   ]
  },
  {
   "cell_type": "code",
   "execution_count": 5,
   "metadata": {},
   "outputs": [
    {
     "name": "stdout",
     "output_type": "stream",
     "text": [
      "The proportion of businesses in the area with losses are in this interval with 90% confidence level: (0.1869856177645281, 0.3273000965211861)\n"
     ]
    }
   ],
   "source": [
    "N=105\n",
    "p=27/N\n",
    "interval=stats.norm.interval(alpha = 0.9,    # Confidence level             \n",
    "                   loc =  p,     # Point estimate of proportion\n",
    "                   scale = math.sqrt((p*(1-p))/N))  # Scaling factor\n",
    "print('The proportion of businesses in the area with losses are in this interval with 90% confidence level:',interval)"
   ]
  },
  {
   "cell_type": "markdown",
   "metadata": {},
   "source": [
    "## Challenge 3 - More practice\n",
    "For the same example in challenge 1, calculate a confidence interval for the variance at 90% level.\n",
    "\n",
    "**Hint**: function `stats.chi2.interval` from `scipy` can help you get through this exercise. "
   ]
  },
  {
   "cell_type": "code",
   "execution_count": 6,
   "metadata": {},
   "outputs": [
    {
     "name": "stdout",
     "output_type": "stream",
     "text": [
      "The mean should be in this interval with a 90% confidence level: (31.992400675216064, 54.13880533799969)\n"
     ]
    }
   ],
   "source": [
    "# your code here\n",
    "heights = [167, 167, 168, 168, 168, 169, 171, 172, 173, 175, 175, 175, 177, 182, 195]\n",
    "\n",
    "N = len(heights)               # sample sizes\n",
    "sigma = np.var(heights, ddof=1)   # sample variance\n",
    "df = N - 1                 # degrees of freedom\n",
    "\n",
    "upper = (N - 1) * sigma / stats.chi2.ppf(1-0.9 / 2, df)\n",
    "lower = (N - 1) * sigma / stats.chi2.ppf(1 - (1-0.9) / 2, df)\n",
    "print('The mean should be in this interval with a 90% confidence level:',(lower,upper))"
   ]
  },
  {
   "cell_type": "markdown",
   "metadata": {},
   "source": [
    "## Challenge 4 - More practice\n",
    "The sulfuric acid content of 7 similar containers is 9.8, 10.2, 10.4, 9.8, 10.0, 10.2 and 9.6 liters. Calculate a 95% confidence interval for the average content of all containers assuming an approximately normal distribution.\n",
    "\n",
    "```\n",
    "acid = [9.8, 10.2, 10.4, 9.8, 10.0, 10.2, 9.6]\n",
    "```\n",
    "\n",
    "**Hint**: function `stats.t.interval` from `scipy` can help you get through this exercise. "
   ]
  },
  {
   "cell_type": "code",
   "execution_count": 7,
   "metadata": {},
   "outputs": [
    {
     "name": "stdout",
     "output_type": "stream",
     "text": [
      "The mean should be in this interval with a 95.0 % confidence level: (9.359248070515873, 10.640751929484127)\n"
     ]
    }
   ],
   "source": [
    "# your code here\n",
    "acid = [9.8, 10.2, 10.4, 9.8, 10.0, 10.2, 9.6]\n",
    "mu=np.mean(acid)\n",
    "sigma=np.std(acid)\n",
    "confidence_int=0.95\n",
    "N=7\n",
    "interval=stats.t.interval(alpha =confidence_int,              # Confidence level\n",
    "                 df= N-1,                    # Degrees of freedom\n",
    "                 loc = mu,         # Sample mean\n",
    "                 scale = stats.sem(acid,axis=None, ddof=N-1)) # Standard error for the mean\n",
    "print(f'The mean should be in this interval with a {confidence_int*100} % confidence level:',interval)"
   ]
  },
  {
   "cell_type": "markdown",
   "metadata": {},
   "source": [
    "## Bonus Challenge\n",
    "The error level or sampling error for the first challenge is given by the following expression:\n",
    "$$Error = z_{\\frac{\\alpha}{2}}\\frac{\\sigma}{\\sqrt n}$$\n",
    "Where z represents the value for N(0,1)\n",
    "\n",
    "\n",
    "Suppose that with the previous data of challenge 1, and with a confidence level of\n",
    "99% (that is, almost certainly) we want to estimate the average population size, so that the error level committed is not greater than half a centimeter.\n",
    "\n",
    "#### 1.- Determine what size the selected sample of men should be."
   ]
  },
  {
   "cell_type": "code",
   "execution_count": 25,
   "metadata": {},
   "outputs": [
    {
     "name": "stdout",
     "output_type": "stream",
     "text": [
      "The selected sample should have a size of: 7.0 people, if we use the sample error\n",
      "The selected sample should have a size of: 426.0 people, if we use the half a centimeter error as the margin error\n"
     ]
    }
   ],
   "source": [
    "# We know the standard deviation of the population, therefore the process to follow is the one described at https://www.statisticshowto.com/probability-and-statistics/find-sample-size/\n",
    "\n",
    "# Step 1:Find z a/2 by dividing the confidence interval by two, and looking that area up in the z-table: .99/2 = 0.495.  The closest z-score for 0.495 is 2.58.\n",
    "a=2.58 \n",
    "# Step 2: Multiply step 1 by the standard deviation.\n",
    "sigma=4\n",
    "b=a*sigma\n",
    "#Step 3: Divide Step 2 by the margin of error.\n",
    "c=b/(2.58*4/np.sqrt(N))\n",
    "#Step 4: Square Step 3.\n",
    "print('The selected sample should have a size of:',round(c**2,0), 'people, if we use the sample error')\n",
    "print('The selected sample should have a size of:', round((b/0.5)**2,0),'people, if we use the half a centimeter error as the margin error')"
   ]
  },
  {
   "cell_type": "markdown",
   "metadata": {},
   "source": [
    "#### 2.- For the second challenge, we have the following error:\n",
    "$$ Error = z_{\\frac{\\alpha}{2}}\\sqrt{\\frac{p\\times q}{n}} $$\n",
    "#### Determine the sample size required to not exceed an error of 1% with a confidence of 80%."
   ]
  },
  {
   "cell_type": "code",
   "execution_count": 30,
   "metadata": {},
   "outputs": [
    {
     "name": "stdout",
     "output_type": "stream",
     "text": [
      "The selected sample should have a size of: 105.0 people, if we use the sample error\n",
      "The selected sample should have a size of: 3130.0 people, if we use the 1% error as the margin error\n"
     ]
    }
   ],
   "source": [
    "#Cochran’s Sample Size Formula\n",
    "error=1.28*np.sqrt((p*(1-p))/105)\n",
    "sample_size=((1.28**2)*p*(1-p))/error**2\n",
    "print('The selected sample should have a size of:',round(sample_size,0),'people, if we use the sample error')\n",
    "print('The selected sample should have a size of:', round(((1.28**2)*p*(1-p))/0.01**2,0),'people, if we use the 1% error as the margin error')"
   ]
  },
  {
   "cell_type": "markdown",
   "metadata": {},
   "source": [
    "## Bonus Challenge\n",
    "\n",
    "Let's consider the following problem:\n",
    "\n",
    "Build a confidence interval of 94% for the real difference between the durations of two brands of spotlights, if a sample of 40 spotlights taken randomly from the first mark gave an average duration of 418 hours, and a sample of 50 bulbs of another brand gave a duration average of 402 hours. The standard deviations of the two\n",
    "populations are 26 hours and 22 hours, respectively.\n",
    "\n",
    "Sometimes, we will be interested in the difference of two different groups of random variables. We can also build a confidence interval for that! We have some different cases regarding the variance but for this specific case (the variance are different and known), we have that:\n",
    "\n",
    "$$\\overline{X} - \\overline{Y}  \\sim N(\\mu_{X} - \\mu_{Y} , \\sqrt{\\frac{\\sigma_{X}^2}{n_X}+\\frac{\\sigma_{Y}^2}{n_Y}})$$\n",
    "\n",
    "Solve the problem with this information."
   ]
  },
  {
   "cell_type": "code",
   "execution_count": 33,
   "metadata": {},
   "outputs": [
    {
     "name": "stdout",
     "output_type": "stream",
     "text": [
      "The real difference between the durationg of these two brands of sportlights is in this interval ( -3.28 , 35.28 ) with a 94% confidence level\n"
     ]
    }
   ],
   "source": [
    "# your code here\n",
    "diff_sample_means=418-402\n",
    "confidence_level=0.94\n",
    "standard_error=np.sqrt(23**2)/40+(22**2)/50\n",
    "critical_value=1.88\n",
    "margin_error=standard_error*critical_value\n",
    "print('The real difference between the durationg of these two brands of sportlights is in this interval','(',round(diff_sample_means-margin_error,2),',',round(diff_sample_means+margin_error,2),')','with a 94% confidence level')"
   ]
  }
 ],
 "metadata": {
  "kernelspec": {
   "display_name": "Python 3",
   "language": "python",
   "name": "python3"
  },
  "language_info": {
   "codemirror_mode": {
    "name": "ipython",
    "version": 3
   },
   "file_extension": ".py",
   "mimetype": "text/x-python",
   "name": "python",
   "nbconvert_exporter": "python",
   "pygments_lexer": "ipython3",
   "version": "3.7.6"
  }
 },
 "nbformat": 4,
 "nbformat_minor": 2
}
