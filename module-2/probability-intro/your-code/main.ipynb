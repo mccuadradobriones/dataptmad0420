{
 "cells": [
  {
   "cell_type": "markdown",
   "metadata": {},
   "source": [
    "# Introduction To Probability\n",
    "## Challenge 1\n",
    "\n",
    "A and B are events of a probability space with $(\\omega, \\sigma, P)$ such that $P(A) = 0.3$, $P(B) = 0.6$ and $P(A \\cap B) = 0.1$\n",
    "\n",
    "Which of the following statements are false?\n",
    "* $P(A \\cup B) = 0.6$\n",
    "* $P(A \\cap B^{C}) = 0.2$\n",
    "* $P(A \\cap (B \\cup B^{C})) = 0.4$\n",
    "* $P(A^{C} \\cap B^{C}) = 0.3$\n",
    "* $P((A \\cap B)^{C}) = 0.9$"
   ]
  },
  {
   "cell_type": "markdown",
   "metadata": {},
   "source": [
    "## ANSWER 1\n",
    "\n",
    "#1 statement is **FALSE**\n",
    " P(A ∪ 𝐵) is not 0.6 but 0.8, as it is calculated through this formula P(A)(0.3) + P(B)(0.6) - P(𝐴∩𝐵)(0.1)\n",
    " \n",
    "#2 statement is **FALSE**\n",
    " 𝑃(𝐴∩𝐵c) is not 0.2 but 0.12 as it is calculated through this formula P(A)(0.3)*P(Bc)(1-0.6) \n",
    " \n",
    "#3 statement is **FALSE**\n",
    " 𝑃(𝐴∩(𝐵∪𝐵c)) is not 0.4 but 0.51 as it is calculated through this formula (𝑃(𝐴∩𝐵)∪ 𝑃(𝐴∩𝐵c))\n",
    " \n",
    "#4 statement is **TRUE**\n",
    " 𝑃(𝐴c∩𝐵c) is calculated through this formula P(A)(0.7)*P(Bc)(0.4) which is equal to 0.28, which rounded up is 0.3\n",
    " \n",
    "#5 statement is **FALSE**\n",
    " 𝑃((𝐴∩𝐵)c) is not 0.2 but 0.28 as it calculated through this formula (1-(P(A)(0.7)*(1-B)(0.6)) \n",
    "\"\"\""
   ]
  },
  {
   "cell_type": "markdown",
   "metadata": {},
   "source": [
    "## Challenge 2\n",
    "There is a box with 10 white balls, 12 red balls and 8 black balls. Calculate the probability of:\n",
    "* Taking a white ball out.\n",
    "* Taking a white ball out after taking a black ball out.\n",
    "* Taking a red ball out after taking a black and a red ball out.\n",
    "* Taking a red ball out after taking a black and a red ball out with reposition.\n",
    "\n",
    "**Hint**: Reposition means putting back the ball into the box after taking it out."
   ]
  },
  {
   "cell_type": "markdown",
   "metadata": {},
   "source": [
    "## ANSWER 2\n",
    "\n",
    "30 Total balls \n",
    "\n",
    "#1 Taking a white ball out has a probability of\n",
    "10/30 (white) = **0.3333**\n",
    "\n",
    "#2 Taking a white ball out after taking a black ball out\n",
    "8/30 (black) * 10/29 (white) = **0.6115**\n",
    "\n",
    "#3 Taking a red ball out after taking a black and a red ball out\n",
    "12/30 (red) * 8/29 (black) * 11/28 (red) = **0.0433**\n",
    "\n",
    "#4 Taking a red ball out after taking a black and a red ball out with reposition.\n",
    "12/30 (red) * 8/30 (black) * 12/30 (red) = **0.0426**\n"
   ]
  },
  {
   "cell_type": "markdown",
   "metadata": {},
   "source": [
    "## Challenge 3\n",
    "\n",
    "You are planning to go on a picnic today but the morning is cloudy. You hate rain so you don't know whether to go out or stay home! To help you make a decision, you gather the following data about rainy days:\n",
    "\n",
    "* 50% of all rainy days start off cloudy!\n",
    "* Cloudy mornings are common. About 40% of days start cloudy. \n",
    "* This month is usually dry so only 3 of 30 days (10%) tend to be rainy. \n",
    "\n",
    "What is the chance of rain during the day?"
   ]
  },
  {
   "cell_type": "markdown",
   "metadata": {},
   "source": [
    "## ANSWER 3\n",
    "Using the Bayes' Theorem we can find out that the chance of rain during the day is P(A|B) = P(A) P(B|A) / P(B) which in our case is P(rain|cloud)= 0.1 * 0.5 / 0.4 = **0.125**"
   ]
  },
  {
   "cell_type": "markdown",
   "metadata": {},
   "source": [
    "## Challenge 4\n",
    "\n",
    "One thousand people were asked through a telephone survey whether they thought more street lighting is needed at night or not.\n",
    "\n",
    "Out of the 480 men that answered the survey, 324 said yes and 156 said no. On the other hand, out of the 520 women that answered, 351 said yes and 169 said no. \n",
    "\n",
    "We wonder if men and women have a different opinions about the street lighting matter. Is gender relevant or irrelevant to the question?\n",
    "\n",
    "Consider the following events:\n",
    "- The answer is yes, so the person that answered thinks that more street lighting is needed.\n",
    "- The person who answered is a man.\n",
    "\n",
    "We want to know if these events are independent, that is, if the fact of wanting more light depends on whether one is male or female. Are these events independent or not?\n",
    "\n",
    "**Hint**: To clearly compare the answers by gender, it is best to place the data in a table."
   ]
  },
  {
   "cell_type": "markdown",
   "metadata": {},
   "source": [
    "## ANSWER 4\n",
    "\n",
    "These events are completely independent as P(Yes|Men) is equal to P(Yes) and P(Men|Yes) is equal to P(Men)\n",
    "\n",
    "P(Yes) = 0.675\n",
    "P(Men) = 0.48\n",
    "P(Yes|Men) = 0.324 = P(Yes) 0.675 * P(Men) 0.48"
   ]
  },
  {
   "cell_type": "code",
   "execution_count": 21,
   "metadata": {},
   "outputs": [
    {
     "data": {
      "text/html": [
       "<div>\n",
       "<style scoped>\n",
       "    .dataframe tbody tr th:only-of-type {\n",
       "        vertical-align: middle;\n",
       "    }\n",
       "\n",
       "    .dataframe tbody tr th {\n",
       "        vertical-align: top;\n",
       "    }\n",
       "\n",
       "    .dataframe thead th {\n",
       "        text-align: right;\n",
       "    }\n",
       "</style>\n",
       "<table border=\"1\" class=\"dataframe\">\n",
       "  <thead>\n",
       "    <tr style=\"text-align: right;\">\n",
       "      <th></th>\n",
       "      <th>Women</th>\n",
       "      <th>Men</th>\n",
       "      <th>Answer_Total</th>\n",
       "      <th>Women P</th>\n",
       "      <th>Men P</th>\n",
       "    </tr>\n",
       "  </thead>\n",
       "  <tbody>\n",
       "    <tr>\n",
       "      <th>Yes</th>\n",
       "      <td>351.000</td>\n",
       "      <td>324.000</td>\n",
       "      <td>675.000</td>\n",
       "      <td>0.52</td>\n",
       "      <td>0.48</td>\n",
       "    </tr>\n",
       "    <tr>\n",
       "      <th>No</th>\n",
       "      <td>169.000</td>\n",
       "      <td>156.000</td>\n",
       "      <td>325.000</td>\n",
       "      <td>0.52</td>\n",
       "      <td>0.48</td>\n",
       "    </tr>\n",
       "    <tr>\n",
       "      <th>Gender_Total</th>\n",
       "      <td>520.000</td>\n",
       "      <td>480.000</td>\n",
       "      <td>1000.000</td>\n",
       "      <td>0.52</td>\n",
       "      <td>0.48</td>\n",
       "    </tr>\n",
       "    <tr>\n",
       "      <th>Yes P</th>\n",
       "      <td>0.675</td>\n",
       "      <td>0.675</td>\n",
       "      <td>0.675</td>\n",
       "      <td>1.00</td>\n",
       "      <td>1.00</td>\n",
       "    </tr>\n",
       "    <tr>\n",
       "      <th>No P</th>\n",
       "      <td>0.325</td>\n",
       "      <td>0.325</td>\n",
       "      <td>0.325</td>\n",
       "      <td>1.00</td>\n",
       "      <td>1.00</td>\n",
       "    </tr>\n",
       "  </tbody>\n",
       "</table>\n",
       "</div>"
      ],
      "text/plain": [
       "                Women      Men  Answer_Total  Women P  Men P\n",
       "Yes           351.000  324.000       675.000     0.52   0.48\n",
       "No            169.000  156.000       325.000     0.52   0.48\n",
       "Gender_Total  520.000  480.000      1000.000     0.52   0.48\n",
       "Yes P           0.675    0.675         0.675     1.00   1.00\n",
       "No P            0.325    0.325         0.325     1.00   1.00"
      ]
     },
     "execution_count": 21,
     "metadata": {},
     "output_type": "execute_result"
    }
   ],
   "source": [
    "import pandas as pd\n",
    "\n",
    "sample = {'Women': [351,169],\n",
    "        'Men': [324,156]}\n",
    "\n",
    "df=pd.DataFrame(sample,columns=['Women', 'Men'], index=['Yes','No'])\n",
    "df.loc['Gender_Total']= df.sum(numeric_only=True, axis=0)\n",
    "df.loc[:,'Answer_Total'] = df.sum(numeric_only=True, axis=1)\n",
    "df.loc['Yes P'] = df.loc['Yes'] / df.loc['Gender_Total']\n",
    "df.loc['No P'] = df.loc['No'] / df.loc['Gender_Total']\n",
    "df['Women P']=df['Women']/df['Answer_Total']\n",
    "df['Men P']=df['Men']/df['Answer_Total']\n",
    "df"
   ]
  }
 ],
 "metadata": {
  "kernelspec": {
   "display_name": "Python 3",
   "language": "python",
   "name": "python3"
  },
  "language_info": {
   "codemirror_mode": {
    "name": "ipython",
    "version": 3
   },
   "file_extension": ".py",
   "mimetype": "text/x-python",
   "name": "python",
   "nbconvert_exporter": "python",
   "pygments_lexer": "ipython3",
   "version": "3.7.3"
  }
 },
 "nbformat": 4,
 "nbformat_minor": 2
}
